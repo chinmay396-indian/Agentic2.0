{
 "cells": [
  {
   "cell_type": "code",
   "execution_count": 91,
   "id": "abdae5d5",
   "metadata": {},
   "outputs": [
    {
     "data": {
      "text/plain": [
       "True"
      ]
     },
     "execution_count": 91,
     "metadata": {},
     "output_type": "execute_result"
    }
   ],
   "source": [
    "import os\n",
    "from dotenv import load_dotenv\n",
    "load_dotenv()"
   ]
  },
  {
   "cell_type": "code",
   "execution_count": 92,
   "id": "daf4608b",
   "metadata": {},
   "outputs": [],
   "source": [
    "os.environ[\"GROQ_API_KEY\"] = os.getenv(\"GROQ_API_KEY\")\n",
    "os.environ[\"HF_TOKEN\"] = os.getenv(\"HF_TOKEN\")\n",
    "os.environ[\"TAVILY_API2\"] = os.getenv(\"TAVILY_API2\")"
   ]
  },
  {
   "cell_type": "code",
   "execution_count": 3,
   "id": "97a38aa4",
   "metadata": {},
   "outputs": [],
   "source": [
    "from langchain.document_loaders import WikipediaLoader\n",
    "from langchain.text_splitter import RecursiveCharacterTextSplitter\n",
    "from langchain.vectorstores import Chroma\n",
    "from langchain_groq import ChatGroq\n",
    "from langchain_huggingface import HuggingFaceEmbeddings\n",
    "from langchain.output_parsers import PydanticOutputParser\n",
    "from langchain_core.output_parsers import StrOutputParser\n",
    "from langchain.prompts import PromptTemplate\n",
    "from langchain_core.runnables import RunnablePassthrough\n",
    "from pydantic import BaseModel, Field\n",
    "from langchain_openai import ChatOpenAI\n",
    "from langchain.tools.tavily_search import TavilySearchResults, TavilyAnswer\n",
    "from langchain_community.utilities.tavily_search import TavilySearchAPIWrapper\n",
    "from langgraph.graph import StateGraph, END\n",
    "from typing import TypedDict, Sequence, Annotated\n",
    "import operator\n",
    "from langchain_core.messages import BaseMessage"
   ]
  },
  {
   "cell_type": "markdown",
   "id": "5999ea58",
   "metadata": {},
   "source": [
    "Building RAG"
   ]
  },
  {
   "cell_type": "code",
   "execution_count": 4,
   "id": "7ea4656a",
   "metadata": {},
   "outputs": [
    {
     "name": "stderr",
     "output_type": "stream",
     "text": [
      "c:\\Users\\chinmay.raut\\AppData\\Local\\anaconda3\\envs\\autogen\\lib\\site-packages\\wikipedia\\wikipedia.py:389: GuessedAtParserWarning: No parser was explicitly specified, so I'm using the best available HTML parser for this system (\"lxml\"). This usually isn't a problem, but if you run this code on another system, or in a different virtual environment, it may use a different parser and behave differently.\n",
      "\n",
      "The code that caused this warning is on line 389 of the file c:\\Users\\chinmay.raut\\AppData\\Local\\anaconda3\\envs\\autogen\\lib\\site-packages\\wikipedia\\wikipedia.py. To get rid of this warning, pass the additional argument 'features=\"lxml\"' to the BeautifulSoup constructor.\n",
      "\n",
      "  lis = BeautifulSoup(html).find_all('li')\n"
     ]
    }
   ],
   "source": [
    "wiki_loader = WikipediaLoader(query=\"India\").load()"
   ]
  },
  {
   "cell_type": "code",
   "execution_count": 5,
   "id": "b76eda96",
   "metadata": {},
   "outputs": [],
   "source": [
    "recursive_text_splitter = RecursiveCharacterTextSplitter(\n",
    "    separators=\".\",\n",
    "    chunk_size = 100,\n",
    "    chunk_overlap = 10\n",
    ")\n",
    "\n",
    "splitted_documents = recursive_text_splitter.split_documents(wiki_loader)"
   ]
  },
  {
   "cell_type": "code",
   "execution_count": 6,
   "id": "16b4360e",
   "metadata": {},
   "outputs": [
    {
     "name": "stderr",
     "output_type": "stream",
     "text": [
      "c:\\Users\\chinmay.raut\\AppData\\Local\\anaconda3\\envs\\autogen\\lib\\site-packages\\tqdm\\auto.py:21: TqdmWarning: IProgress not found. Please update jupyter and ipywidgets. See https://ipywidgets.readthedocs.io/en/stable/user_install.html\n",
      "  from .autonotebook import tqdm as notebook_tqdm\n"
     ]
    }
   ],
   "source": [
    "embedding_model = HuggingFaceEmbeddings(model = \"dbourget/philai-embeddings-v1.1\")"
   ]
  },
  {
   "cell_type": "code",
   "execution_count": 7,
   "id": "10216415",
   "metadata": {},
   "outputs": [],
   "source": [
    "#embedded_documents = await embedding_model.aembed_documents([doc.page_content for doc in splitted_documents])"
   ]
  },
  {
   "cell_type": "code",
   "execution_count": 8,
   "id": "97381966",
   "metadata": {},
   "outputs": [],
   "source": [
    "vector_db = Chroma.from_documents(embedding=embedding_model, documents= splitted_documents)"
   ]
  },
  {
   "cell_type": "code",
   "execution_count": 9,
   "id": "5d2ada06",
   "metadata": {},
   "outputs": [],
   "source": [
    "retriever = vector_db.as_retriever(\n",
    "    search_kwargs = {\"k\":3}\n",
    ")"
   ]
  },
  {
   "cell_type": "code",
   "execution_count": 10,
   "id": "105bb390",
   "metadata": {},
   "outputs": [],
   "source": [
    "output_parser = StrOutputParser()"
   ]
  },
  {
   "cell_type": "code",
   "execution_count": 11,
   "id": "cf6a83eb",
   "metadata": {},
   "outputs": [],
   "source": [
    "prompt_template = PromptTemplate(\n",
    "    template=\"You are a helpful assitant who is tasked to answer the folowing user's query using the context provided. Strictly answer only based on the context provided ! query: {query} context :{context}\",\n",
    "    input_variables=[\"query\",\"context\"]\n",
    ")"
   ]
  },
  {
   "cell_type": "code",
   "execution_count": 12,
   "id": "d032b4a6",
   "metadata": {},
   "outputs": [],
   "source": [
    "def format_documents(docs):\n",
    "    return \"\\n\\n\".join(doc.page_content for doc in docs)"
   ]
  },
  {
   "cell_type": "code",
   "execution_count": 13,
   "id": "55150fe4",
   "metadata": {},
   "outputs": [],
   "source": [
    "grok_llm = ChatGroq(model=\"deepseek-r1-distill-llama-70b\")"
   ]
  },
  {
   "cell_type": "code",
   "execution_count": 14,
   "id": "2700a290",
   "metadata": {},
   "outputs": [],
   "source": [
    "RAG_Chain = (\n",
    "    {\"context\":retriever|format_documents, \"query\":RunnablePassthrough()}\n",
    "    | prompt_template\n",
    "    | grok_llm\n",
    "    | output_parser\n",
    ")"
   ]
  },
  {
   "cell_type": "code",
   "execution_count": 71,
   "id": "2a8a1771",
   "metadata": {},
   "outputs": [
    {
     "data": {
      "text/plain": [
       "[Document(metadata={'source': 'https://en.wikipedia.org/wiki/2025_India%E2%80%93Pakistan_conflict', 'summary': \"The 2025 India–Pakistan conflict was a brief armed conflict between India and Pakistan that began on 7 May 2025, after India launched missile strikes on Pakistan, in a military campaign codenamed Operation Sindoor. India said that the operation was in response to the Pahalgam terrorist attack in Indian-administered Jammu and Kashmir on 22 April 2025 in which 26 civilians were killed. India accused Pakistan of supporting cross-border terrorism, which Pakistan denied.\\nOn 7 May, India launched Operation Sindoor with missile strikes on terrorism-related infrastructure facilities of Pakistan-based militant groups Jaish-e-Mohammed and Lashkar-e-Taiba in Pakistan and Pakistan-administered Azad Kashmir, and said that no Pakistani military or civilian facilities were targeted. According to Pakistan, the Indian strikes hit civilian areas, including mosques, and resulted in civilian casualties. Following these strikes, there were border skirmishes and drone strikes between the two countries. Pakistan's army retaliated on 7 May, by launching a blitz of mortar shells on Jammu, particularly Poonch, killing civilians, and damaging homes and religious sites. This conflict marked the first drone battle between the two nuclear-armed nations.\\nIn the early hours of 10 May, India accused Pakistan of launching missile attacks on Indian air bases including the Sirsa air base while Pakistan accused India of launching attacks on several Pakistan air bases, including Nur Khan, Rafiqi, and Murid. As conflict escalated on 10 May, Pakistan launched its Operation Bunyan-un-Marsoos, in which it said it had targeted several Indian military bases.\\nAfter the four-day military conflict, both India and Pakistan announced that a ceasefire had been agreed after a hotline communication between their DGMOs (Directors General of Military Operations) on 10 May 2025. U.S. Vice President JD Vance and Secretary of State Marco Rubio held extensive correspondence with both Indian and Pakistani officials during the negotiations. The ceasefire has been holding with resumed commercial flights and normalcy reported from both countries.\", 'title': '2025 India–Pakistan conflict'}, page_content='. U.S'),\n",
       " Document(metadata={'source': 'https://en.wikipedia.org/wiki/Indian_National_Developmental_Inclusive_Alliance', 'summary': \"The Indian National Developmental Inclusive Alliance (INDIA) is a big tent multi-party political alliance of several political parties in India led by the country's largest opposition party, the Indian National Congress. The alliance is in opposition to the ruling National Democratic Alliance (NDA) government led by the Bharatiya Janata Party (BJP) in the 2024 Indian general elections. In the 2024 general election, the alliance won 234 seats, gaining more than 100 seats in relation to its size before dissolution, and the majority of seats in states like Uttar Pradesh, Maharashtra, and West Bengal.\", 'title': 'Indian National Developmental Inclusive Alliance'}, page_content='.N.D.I.A'),\n",
       " Document(metadata={'source': 'https://en.wikipedia.org/wiki/Culture_of_India', 'summary': \"Indian culture is the heritage of social norms and technologies that originated in or are associated with the ethno-linguistically diverse nation of India, pertaining to the Indian subcontinent until 1947 and the Republic of India post-1947. The term also applies beyond India to countries and cultures whose histories are strongly connected to India by immigration, colonization, or influence, particularly in South Asia and Southeast Asia. India's languages, religions, dance, music, architecture, food, and customs differ from place to place within the country.\\nIndian culture, often labelled as a combination of several cultures, has been influenced by a history that is several millennia old, beginning with the Indus Valley Civilization and other early cultural areas.\\nMany elements of Indian culture, such as Indian religions, mathematics, philosophy, cuisine, languages, dance, music, and movies have had a profound impact across the Indosphere, Greater India, and the world. The British Raj further influenced Indian culture, such as through the widespread introduction of the English language, which resulted in a local English dialect and influences on the Indian languages.\", 'title': 'Culture of India'}, page_content='. and James Bevel during the American civil rights movement')]"
      ]
     },
     "execution_count": 71,
     "metadata": {},
     "output_type": "execute_result"
    }
   ],
   "source": [
    "# retrieving the context of the \"Operation Sindoor\" which was a recent event happened a month ago in India from the vector db since the documents are from Wikipedia which frequently gets updated as soon as any major event occurs anywhere in the world\n",
    "retriever.invoke(\"Tell me about Nelson Mandela\")"
   ]
  },
  {
   "cell_type": "code",
   "execution_count": 83,
   "id": "b2903b0a",
   "metadata": {},
   "outputs": [
    {
     "data": {
      "text/plain": [
       "AIMessage(content='<think>\\n\\n</think>\\n\\nAs of my last update in July 2024, there is no widely recognized or documented military or strategic operation known as \"Operation Sindoor\" in global military history or recent events. It\\'s possible that \"Operation Sindoor\" could refer to a lesser-known or classified operation, or it might be a name used in a specific context that hasn\\'t gained widespread attention.\\n\\nIf \"Operation Sindoor\" is related to a specific country\\'s military operations, it could be a regional or internal security operation that hasn\\'t been extensively reported. For example, India has conducted several operations with unique names like \"Operation Blue Star,\" \"Operation Black Thunder,\" and \"Operation Parakram,\" but \"Operation Sindoor\" is not a recognized term in that context as of now.\\n\\nIf you have more specific details or context about Operation Sindoor, such as the country involved or the approximate time period, I could provide more precise information. Otherwise, it might be a good idea to consult more recent or specialized sources for any updates or clarifications.', additional_kwargs={}, response_metadata={'token_usage': {'completion_tokens': 211, 'prompt_tokens': 9, 'total_tokens': 220, 'completion_time': 0.85614939, 'prompt_time': 0.000202696, 'queue_time': 0.056681468, 'total_time': 0.856352086}, 'model_name': 'deepseek-r1-distill-llama-70b', 'system_fingerprint': 'fp_1bbe7845ec', 'finish_reason': 'stop', 'logprobs': None}, id='run--105b0994-37f7-42ec-ac3d-10e17db54e1c-0', usage_metadata={'input_tokens': 9, 'output_tokens': 211, 'total_tokens': 220})"
      ]
     },
     "execution_count": 83,
     "metadata": {},
     "output_type": "execute_result"
    }
   ],
   "source": [
    "# Asking grok_llm if it is aware of this latest event\n",
    "grok_llm.invoke(\"Tell me about operation sindoor\")"
   ]
  },
  {
   "cell_type": "code",
   "execution_count": 84,
   "id": "978db9d2",
   "metadata": {},
   "outputs": [
    {
     "data": {
      "text/plain": [
       "'<think>\\nOkay, so the user is asking me to tell them about a table context related to the U.S., specifically mentioning the \\'Basic Structure\\' Doctrine and some main items. The context provided is a bit fragmented, so I need to piece it together.\\n\\nFirst, I should figure out what the \\'Basic Structure\\' Doctrine refers to. I know it\\'s a legal concept, but is it from the U.S.? Wait, no, I think that\\'s more from Indian law, particularly related to constitutional amendments. Maybe the user is confusing it with something else in the U.S. context.\\n\\nThe main items mentioned are the U.S. and the Basic Structure Doctrine. So perhaps the table is comparing this doctrine with something in the U.S. legal system. Maybe it\\'s about constitutional principles or limits on governmental power.\\n\\nI should consider what the U.S. equivalent might be. The U.S. has the concept of judicial review and the separation of powers, which are fundamental structures. So maybe the table is drawing parallels between the Basic Structure Doctrine in India and similar principles in the U.S.\\n\\nI should explain that while the U.S. doesn\\'t have the \\'Basic Structure\\' Doctrine by name, it has analogous concepts like judicial review and the separation of powers that serve similar functions in preserving the Constitution\\'s framework.\\n\\nI should also mention that the main items in the table likely highlight these comparisons, showing how both systems ensure constitutional integrity but through different legal mechanisms.\\n\\nI need to make sure I don\\'t provide any incorrect information, so I\\'ll clarify that the doctrine isn\\'t part of U.S. law but that similar principles exist there.\\n</think>\\n\\nThe query appears to refer to a table or context related to the United States and the \"Basic Structure Doctrine.\" However, the \"Basic Structure Doctrine\" is not a U.S. legal or constitutional concept. It is actually a legal doctrine that originated in Indian constitutional law, particularly in the case of *Kesavananda Bharati v. State of Kerala* (1973). This doctrine holds that while the Indian Parliament has the power to amend the Constitution, it cannot alter the \"basic structure\" of the Constitution, which includes fundamental principles such as federalism, secularism, and the rule of law.\\n\\nIf the table or context you are referring to is comparing this doctrine to U.S. constitutional law, it might be drawing parallels with the U.S. system of constitutional interpretation. In the U.S., the Supreme Court has the authority of judicial review, which allows it to determine whether laws or government actions are consistent with the U.S. Constitution. While the U.S. does not have a direct equivalent of the \"Basic Structure Doctrine,\" the idea of protecting fundamental constitutional principles is a shared concept in both legal systems.\\n\\nIf you could provide more details or clarify the specific table or context you\\'re referring to, I could give a more precise explanation.'"
      ]
     },
     "execution_count": 84,
     "metadata": {},
     "output_type": "execute_result"
    }
   ],
   "source": [
    "RAG_Chain.invoke(\"Tell me about Table\")"
   ]
  },
  {
   "cell_type": "code",
   "execution_count": 17,
   "id": "2e5f34e6",
   "metadata": {},
   "outputs": [
    {
     "data": {
      "text/plain": [
       "\"<think>\\nOkay, so the user asked me to tell them about Operation Sindoor using the provided context. Let me start by reading the context carefully.\\n\\nThe context says that on May 7, 2025, India launched missile strikes against Pakistan under the name Operation Sindoor. Then, Pakistan retaliated by claiming they downed several Indian jets and damaged some infrastructure. \\n\\nI need to make sure I only use this information and don't add anything else. I should structure the response clearly, maybe starting with the date and what India did, then mention Pakistan's response. \\n\\nI should keep it concise but informative, ensuring that all the key points from the context are included. Also, I should use simple language and avoid any jargon or unnecessary details. \\n\\nWait, the context is pretty brief, so I don't have much else to add. I just need to present the facts as given without speculating or adding external information. \\n\\nI should probably mention the codename, the action by India, and then Pakistan's retaliation. That should cover everything the user is asking for based on the context provided.\\n</think>\\n\\nOn 7 May 2025, India launched missile strikes against Pakistan, codenamed Operation Sindoor. In response, Pakistan claimed to have downed several Indian jets and inflicted damage on Indian infrastructure.\""
      ]
     },
     "execution_count": 17,
     "metadata": {},
     "output_type": "execute_result"
    }
   ],
   "source": [
    "# Since the Grok was not aware of this event, context was provided by the RAG chain\n",
    "RAG_Chain.invoke(\"Tell me about operation sindoor\")"
   ]
  },
  {
   "cell_type": "markdown",
   "id": "796b588f",
   "metadata": {},
   "source": [
    "\"<think>\\nOkay, so I need to figure out how to answer the user's query about Operation Sindoor using only the provided context. The query is asking for information on Operation Sindoor, and the context given includes two specific points: the launch date of the operation and Pakistan's response.\\n\\nFirst, I should identify the key elements from the context. The operation was launched on May 7, 2025, by India against Pakistan. The context also mentions that Pakistan claimed to have downed Indian jets and damaged infrastructure in retaliation.\\n\\nI need to structure this information in a clear and concise manner. I should start by stating what Operation Sindoor is, when it occurred, and then mention Pakistan's response. It's important to stick strictly to the context without adding any external information or speculation.\\n\\nI should also ensure that the language is straightforward and easy to understand, avoiding any jargon or complex terms unless they're in the context. Since the context is brief, the answer should be similarly concise, covering only the points provided.\\n\\nI might also consider the user's potential deeper needs. They might be looking for a summary of the event without needing extensive details. Therefore, providing a clear, factual answer based on the context should suffice.\\n\\nI should avoid any interpretation or analysis beyond what's given. For example, not discussing the implications or reasons behind the operation, just stating the facts as presented.\\n\\nSo, putting it all together, the answer should mention the date, the action by India, and Pakistan's response, all in a straightforward manner without any additional commentary.\\n</think>\\n\\nOperation Sindoor was a military action launched by India on May 7, 2025, involving missile strikes against Pakistan. In response, Pakistan claimed to have downed several Indian jets and inflicted damage on Indian infrastructure.\""
   ]
  },
  {
   "cell_type": "code",
   "execution_count": 18,
   "id": "2740b488",
   "metadata": {},
   "outputs": [
    {
     "data": {
      "text/plain": [
       "'<think>\\nOkay, so I need to figure out how to answer the user\\'s query about the events leading up to Operation Sindoor, specifically if it\\'s related to the Pahalgam terror attack. Let me start by looking at the context provided.\\n\\nThe context mentions that India said Operation Sindoor was a response to the Pahalgam terrorist attack on April 22, 2025, where 26 civilians were killed. Then, Pakistan alleged that this attack was a \"false flag\" operation by India. The crisis between the two countries started after this attack, with India accusing Pakistan of sponsoring militants, which Pakistan denied.\\n\\nSo, the user is asking about the events that led to Operation Sindoor and if it\\'s related to the Pahalgam attack. Based on the context, I should explain that the operation was in response to the attack. I should mention the attack\\'s date, the number of casualties, India\\'s claim that it was retaliation, Pakistan\\'s denial and their accusation that it was a false flag. Then, I should connect this to the crisis between the two nations.\\n\\nI should structure the answer to first state that Operation Sindoor was India\\'s response to the Pahalgam attack, then provide details of the attack, then mention Pakistan\\'s response, and finally explain the resulting crisis.\\n\\nI need to make sure I don\\'t add any information outside the provided context. Also, I should present it clearly, maybe in a few concise points or a short paragraph.\\n\\nWait, the user mentioned that it \"might be related\" to the Pahalgam attack, so I should confirm that connection based on the context. The context clearly links Operation Sindoor to the attack, so I should state that directly.\\n\\nI should also make sure to use the exact dates and numbers from the context to maintain accuracy. So, 26 civilians killed on April 22, 2025. Pakistan\\'s allegation of a false flag, and their denial of involvement.\\n\\nPutting it all together, the answer should clearly outline the events: the attack happened, India retaliated with Operation Sindoor, Pakistan denied involvement and accused India of staging the attack, leading to a crisis between the two countries.\\n\\nI think that\\'s all the necessary information. I just need to present it in a clear, logical sequence without any extra details.\\n</think>\\n\\nOperation Sindoor was initiated by India as a direct response to the Pahalgam terrorist attack, which occurred on April 22, 2025, resulting in the deaths of 26 civilians. India attributed the attack to militants sponsored by Pakistan, leading to the operation as an act of retaliation. Pakistan, however, denied any involvement and countered by alleging that the attack was a \"false flag\" operation orchestrated by India. This exchange escalated tensions, precipitating a significant crisis between the two nations.'"
      ]
     },
     "execution_count": 18,
     "metadata": {},
     "output_type": "execute_result"
    }
   ],
   "source": [
    "# Here in the above output, we observe that grok_llm states the India started the war first. But we wanted to give more context about the pre-war events, so framed our query accordingly which provided some context about the Pahalgam terror attack\n",
    "RAG_Chain.invoke(\"Tell me about the events that led to Operation Sindoor it might be related to Pahalgam terror attack.\")"
   ]
  },
  {
   "cell_type": "markdown",
   "id": "3fcd6ae6",
   "metadata": {},
   "source": [
    "\"<think>\\nOkay, so I need to figure out the events that led to Operation Sindoor and how it's related to the Pahalgam terror attack. Let me start by understanding the context provided.\\n\\nFirst, the context mentions that on April 22, 2025, there was a terrorist attack near Pahalgam in Indian-administered Jammu and Kashmir. This attack killed 26 civilians, mostly Hindu tourists. Then, on May 7, 2025, India launched missile strikes on Pakistan, codenamed Operation Sindoor, in response to that attack.\\n\\nSo, the user is asking about the events leading up to Operation Sindoor and its relation to the Pahalgam attack. From the context, it seems that the main event was the terrorist attack, and India's response was the operation.\\n\\nI should structure the answer by first explaining the attack, then the response. I should make sure to mention the dates, the number of casualties, and the fact that the attack was a significant trigger for the operation.\\n\\nI also need to ensure that I'm strictly using the provided context and not adding any external information. So, I'll avoid mentioning any other events or causes beyond what's given.\\n\\nI should present this information clearly, perhaps in a few concise points or a short paragraph, making sure it's easy to understand.\\n</think>\\n\\nThe Pahalgam terror attack on April 22, 2025, in Indian-administered Jammu and Kashmir, resulted in the deaths of 26 civilians, primarily Hindu tourists. This incident served as the trigger for India's response. Consequently, on May 7, 2025, India conducted missile strikes against Pakistan, known as Operation Sindoor, as a direct reaction to the attack.\""
   ]
  },
  {
   "cell_type": "code",
   "execution_count": 19,
   "id": "7bf774b3",
   "metadata": {},
   "outputs": [
    {
     "data": {
      "text/plain": [
       "\"<think>\\nOkay, so the user is asking me to tell them about Tata Consultancy Services using the provided context. Let me read through the context again to make sure I understand what's there.\\n\\nThe context has three points. The first mentions 4.25 billion people as reported by Bloomberg. The second talks about Bloomberg being criticized for accepting payments for positive coverage in the Indian news industry. The third point is about Pakistan's response regarding downing Indian jets and damaging infrastructure.\\n\\nHmm, none of these points mention Tata Consultancy Services (TCS) at all. The first point just gives a population figure, the second discusses Bloomberg's practices, and the third is about a conflict between India and Pakistan.\\n\\nSo, I need to figure out how to respond to the user. They specifically asked about TCS, but the context provided doesn't have any information related to TCS. My options are either to say that there's no relevant information or to inform them that the context doesn't cover TCS and perhaps ask if they need something else.\\n\\nI should be honest and clear, letting them know that the context doesn't include details about TCS. Maybe I can offer to help with something else if they have more information or a different query.\\n</think>\\n\\nThe context provided does not contain any information related to Tata Consultancy Services (TCS). If you have any other questions or need information on a different topic, feel free to ask!\""
      ]
     },
     "execution_count": 19,
     "metadata": {},
     "output_type": "execute_result"
    }
   ],
   "source": [
    "#Testing whether our RAG Chain answers out of context queries\n",
    "RAG_Chain.invoke(\"Tell me about Tata Consutlancy Services\")"
   ]
  },
  {
   "cell_type": "markdown",
   "id": "ca9cfd43",
   "metadata": {},
   "source": [
    "\"<think>\\nOkay, so I need to figure out how to respond to the user's query about Tata Consultancy Services using only the provided context. Let me start by reading the context carefully.\\n\\nThe context has three points. The first mentions 4.25 billion people as reported by Bloomberg. The second talks about criticism towards a newspaper for accepting payments for positive coverage in the Indian news industry. The third is about Pakistan's response regarding downing Indian jets and damaging infrastructure.\\n\\nHmm, the user is asking about Tata Consultancy Services (TCS), but looking at the context, there's no direct information about TCS. The first point mentions Bloomberg, which is a news agency, but it's talking about population numbers, not TCS. The second point is about media practices in India, and the third is about a conflict between India and Pakistan.\\n\\nWait, maybe the context is mistakenly provided or unrelated. Since the context doesn't mention TCS at all, I can't extract any relevant information about the company from it. I should inform the user that the context doesn't provide any details about TCS and suggest they provide more relevant information if needed.\\n</think>\\n\\nThe provided context does not contain any information about Tata Consultancy Services (TCS). If you have more specific or relevant context about TCS, feel free to share, and I’d be happy to help!\""
   ]
  },
  {
   "cell_type": "markdown",
   "id": "e8b4770e",
   "metadata": {},
   "source": [
    "Lets Begin to build the Answering LLM Chain"
   ]
  },
  {
   "cell_type": "code",
   "execution_count": 54,
   "id": "d845c5e1",
   "metadata": {},
   "outputs": [],
   "source": [
    "class TopicSelectionParser(BaseModel):\n",
    "    \n",
    "    reasoning : str = Field(description=\"The reason for the topic selection.\")\n",
    "    is_related : bool = Field(description=\"This object tells is the query is related to RAG or not\")"
   ]
  },
  {
   "cell_type": "code",
   "execution_count": 55,
   "id": "4ceea04e",
   "metadata": {},
   "outputs": [],
   "source": [
    "pydantic_output_parser = PydanticOutputParser(pydantic_object=TopicSelectionParser)"
   ]
  },
  {
   "cell_type": "markdown",
   "id": "3dd444b0",
   "metadata": {},
   "source": [
    "'The output should be formatted as a JSON instance that conforms to the JSON schema below.\\n\\nAs an example, for the schema {\"properties\": {\"foo\": {\"title\": \"Foo\", \"description\": \"a list of strings\", \"type\": \"array\", \"items\": {\"type\": \"string\"}}}, \"required\": [\"foo\"]}\\nthe object {\"foo\": [\"bar\", \"baz\"]} is a well-formatted instance of the schema. The object {\"properties\": {\"foo\": [\"bar\", \"baz\"]}} is not well-formatted.\\n\\nHere is the output schema:\\n```\\n{\"properties\": {\"topic\": {\"description\": \"The topic of the given query.\", \"title\": \"Topic\", \"type\": \"string\"}, \"reasoning\": {\"description\": \"The reason for the topic selection.\", \"title\": \"Reasoning\", \"type\": \"string\"}}, \"required\": [\"topic\", \"reasoning\"]}\\n```'"
   ]
  },
  {
   "cell_type": "code",
   "execution_count": null,
   "id": "2b805988",
   "metadata": {},
   "outputs": [],
   "source": [
    "#Bad Prompt\n",
    "llm_chain_prompt1 = PromptTemplate(\n",
    "    template=\"\"\"You are an assistant and your task is to understand the topic of the given query:'{query}' and provide the reasoning behind the topic selection.\n",
    "      You can answer topic only in two categories:[India/Not Related to India]. \n",
    "      You cannot choose any other category except the mentioned in this template.\n",
    "      Do NOT output any markdown, commentary, explanation or Think tags. \"\"\",\n",
    "    input_variables=[\"query\"],\n",
    "    partial_variables={\"format_instructions\":pydantic_output_parser.get_format_instructions()}\n",
    ")\n",
    "\n"
   ]
  },
  {
   "cell_type": "code",
   "execution_count": 56,
   "id": "cd00221e",
   "metadata": {},
   "outputs": [],
   "source": [
    "#Good Prompt\n",
    "llm_chain_prompt2 = PromptTemplate(\n",
    "    template=\"\"\"\n",
    "    Your task is to classify the given user query is related to India. \n",
    "    Only respond with a boolean output. True if the query is related to India, else False\n",
    "\n",
    "    User query: {query}\n",
    "    {format_instructions}\n",
    "    \"\"\",\n",
    "    input_variables=[\"query\"],\n",
    "    partial_variables={\"format_instructions\":pydantic_output_parser.get_format_instructions()}\n",
    ")"
   ]
  },
  {
   "cell_type": "code",
   "execution_count": 24,
   "id": "4436dbee",
   "metadata": {},
   "outputs": [],
   "source": [
    "os.environ[\"OPENAI_API_KEY\"] = os.getenv(\"OPENAI_API_KEY\")"
   ]
  },
  {
   "cell_type": "code",
   "execution_count": 25,
   "id": "1dcf83ae",
   "metadata": {},
   "outputs": [],
   "source": [
    "openai_model = ChatOpenAI(model = \"o4-mini\")"
   ]
  },
  {
   "cell_type": "code",
   "execution_count": 57,
   "id": "5f9aa323",
   "metadata": {},
   "outputs": [],
   "source": [
    "supervisor_llm_chain = llm_chain_prompt2 | grok_llm | pydantic_output_parser"
   ]
  },
  {
   "cell_type": "code",
   "execution_count": 27,
   "id": "d25b8162",
   "metadata": {},
   "outputs": [],
   "source": [
    "response = supervisor_llm_chain.invoke({\"query\":\"Tell me about the country of which the present day Pakistan was a part before its existence ?\"})"
   ]
  },
  {
   "cell_type": "code",
   "execution_count": 28,
   "id": "f8b62618",
   "metadata": {},
   "outputs": [
    {
     "data": {
      "text/plain": [
       "'India'"
      ]
     },
     "execution_count": 28,
     "metadata": {},
     "output_type": "execute_result"
    }
   ],
   "source": [
    "response.topic"
   ]
  },
  {
   "cell_type": "code",
   "execution_count": 272,
   "id": "9c6e21de",
   "metadata": {},
   "outputs": [],
   "source": [
    "class ContextVerifyingParser(BaseModel):\n",
    "    answer : str = Field(description=\"The answer returned by the LLM.\")\n",
    "    in_scope : bool = Field(description=  \"in_scope determines whether the query is in scope or not\")\n",
    "\n",
    "answering_chain_parser = PydanticOutputParser(pydantic_object=ContextVerifyingParser)"
   ]
  },
  {
   "cell_type": "code",
   "execution_count": 273,
   "id": "a35bbeef",
   "metadata": {},
   "outputs": [
    {
     "data": {
      "text/plain": [
       "'The output should be formatted as a JSON instance that conforms to the JSON schema below.\\n\\nAs an example, for the schema {\"properties\": {\"foo\": {\"title\": \"Foo\", \"description\": \"a list of strings\", \"type\": \"array\", \"items\": {\"type\": \"string\"}}}, \"required\": [\"foo\"]}\\nthe object {\"foo\": [\"bar\", \"baz\"]} is a well-formatted instance of the schema. The object {\"properties\": {\"foo\": [\"bar\", \"baz\"]}} is not well-formatted.\\n\\nHere is the output schema:\\n```\\n{\"properties\": {\"answer\": {\"description\": \"The answer returned by the LLM.\", \"title\": \"Answer\", \"type\": \"string\"}, \"in_scope\": {\"description\": \"in_scope determines whether the query is in scope or not\", \"title\": \"In Scope\", \"type\": \"boolean\"}}, \"required\": [\"answer\", \"in_scope\"]}\\n```'"
      ]
     },
     "execution_count": 273,
     "metadata": {},
     "output_type": "execute_result"
    }
   ],
   "source": [
    "answering_chain_parser.get_format_instructions()"
   ]
  },
  {
   "cell_type": "code",
   "execution_count": 274,
   "id": "c58cee14",
   "metadata": {},
   "outputs": [],
   "source": [
    "answering_llm_chain_prompt = PromptTemplate(\n",
    "    template = \"\"\"You are a helpful assitant who is tasked to answer the user's query as per the knowledge that you have.\n",
    "    If you are able to answer the query, set the in_scope to True, else False\n",
    "    \n",
    "        \n",
    "    user query: {query}\n",
    "    {format_instructions}\n",
    "    \"\"\",\n",
    "    input_variables=[\"query\"],\n",
    "    partial_variables={\"format_instructions\":answering_chain_parser.get_format_instructions()}\n",
    ")\n",
    "\n",
    "answering_llm_chain = answering_llm_chain_prompt | grok_llm | answering_chain_parser\n",
    "\n",
    "answering_llm_chain_response = answering_llm_chain.invoke({\"query\":\"Tell me about the Elon Musk's first landing on Mars\"})"
   ]
  },
  {
   "cell_type": "code",
   "execution_count": 275,
   "id": "bfe0764a",
   "metadata": {},
   "outputs": [
    {
     "data": {
      "text/plain": [
       "True"
      ]
     },
     "execution_count": 275,
     "metadata": {},
     "output_type": "execute_result"
    }
   ],
   "source": [
    "answering_llm_chain_response.in_scope"
   ]
  },
  {
   "cell_type": "code",
   "execution_count": 276,
   "id": "0082a75f",
   "metadata": {},
   "outputs": [
    {
     "data": {
      "text/plain": [
       "\"As of my knowledge cutoff in July 2024, Elon Musk's SpaceX has not yet achieved a first landing on Mars. While SpaceX has made significant strides in space exploration, including successful launches and landings on Earth and the Moon, a Mars landing has not occurred. Plans for Mars missions are in development, but no landing has taken place.\""
      ]
     },
     "execution_count": 276,
     "metadata": {},
     "output_type": "execute_result"
    }
   ],
   "source": [
    "answering_llm_chain_response.answer"
   ]
  },
  {
   "cell_type": "markdown",
   "id": "c8b22aaf",
   "metadata": {},
   "source": [
    "Building Web Crawling logic"
   ]
  },
  {
   "cell_type": "code",
   "execution_count": 277,
   "id": "b0dea617",
   "metadata": {},
   "outputs": [],
   "source": [
    "tavily_api_wrapper = TavilySearchAPIWrapper(tavily_api_key=os.environ[\"TAVILY_API\"])\n",
    "tavily_tool = TavilyAnswer(api_wrapper=tavily_api_wrapper)"
   ]
  },
  {
   "cell_type": "code",
   "execution_count": 278,
   "id": "572e9710",
   "metadata": {},
   "outputs": [
    {
     "data": {
      "text/plain": [
       "'The United Arab Emirates is a federation of seven emirates on the Arabian Peninsula, known for its wealth and global business hub Dubai. It is rich in oil and has a diverse economy. The capital is Abu Dhabi.'"
      ]
     },
     "execution_count": 278,
     "metadata": {},
     "output_type": "execute_result"
    }
   ],
   "source": [
    "tavily_tool(\"Tell me about UAE\")"
   ]
  },
  {
   "cell_type": "markdown",
   "id": "a6993183",
   "metadata": {},
   "source": [
    "Building logic for Validator"
   ]
  },
  {
   "cell_type": "code",
   "execution_count": 388,
   "id": "35e4683a",
   "metadata": {},
   "outputs": [],
   "source": [
    "validator_llm = ChatGroq(model = \"qwen/qwen3-32b\")"
   ]
  },
  {
   "cell_type": "code",
   "execution_count": 389,
   "id": "767474b1",
   "metadata": {},
   "outputs": [],
   "source": [
    "class ValidatorParser(BaseModel):\n",
    "    answer : str = Field(description = \"This object provides the answer to the query.\")\n",
    "    is_valid : bool = Field(description=\"This object validates if the answer to the query is actually valid.\")"
   ]
  },
  {
   "cell_type": "code",
   "execution_count": 390,
   "id": "afa70637",
   "metadata": {},
   "outputs": [],
   "source": [
    "validator_output_parser = PydanticOutputParser(pydantic_object= ValidatorParser)"
   ]
  },
  {
   "cell_type": "code",
   "execution_count": 391,
   "id": "cd965b85",
   "metadata": {},
   "outputs": [],
   "source": [
    "validator_llm_chain_prompt = PromptTemplate(\n",
    "    template = \"\"\"You are very intelligent validator, you will be provided a query and an answer generated by another LLM for that\n",
    "     query. Your task is to check if the answer generated by another llm is in context to the query.\n",
    "    If the answer is in context to the query, set the is_valid object to True, else False\n",
    "    \n",
    "    user query: {og_query}\n",
    "    answer : {answer}\n",
    "    {format_instructions}\"\"\",\n",
    "    input_variables = [\"og_query\",\"answer\"],\n",
    "    partial_variables={\"format_instructions\":validator_output_parser.get_format_instructions()}\n",
    ")\n",
    "\n",
    "validator_llm_chain = validator_llm_chain_prompt | grok_llm | validator_output_parser"
   ]
  },
  {
   "cell_type": "code",
   "execution_count": 392,
   "id": "d3d88de2",
   "metadata": {},
   "outputs": [
    {
     "data": {
      "text/plain": [
       "ValidatorParser(answer='Islamabad is the capital of India', is_valid=False)"
      ]
     },
     "execution_count": 392,
     "metadata": {},
     "output_type": "execute_result"
    }
   ],
   "source": [
    "validator_llm_chain.invoke({\"og_query\":\"What is the capital of India?\",\"answer\":\"Islamabad is the capital of India\"})"
   ]
  },
  {
   "cell_type": "code",
   "execution_count": 393,
   "id": "a424b797",
   "metadata": {},
   "outputs": [
    {
     "data": {
      "text/plain": [
       "ValidatorParser(answer=\"Chaya Swamy is the owner of Laxman Chaya bungalow in Kashigaon. The bungalow is located in Maharashtra, India. Chaya Swamy's contact number is (440) 892-1447.\", is_valid=True)"
      ]
     },
     "execution_count": 393,
     "metadata": {},
     "output_type": "execute_result"
    }
   ],
   "source": [
    "validator_llm_chain.invoke({\"og_query\":\"Tell me who is the owner of Laxman Chaya bungulow situated in Kashigaon?\",\"answer\":\"Chaya Swamy is the owner of Laxman Chaya bungalow in Kashigaon. The bungalow is located in Maharashtra, India. Chaya Swamy's contact number is (440) 892-1447.\"})"
   ]
  },
  {
   "cell_type": "markdown",
   "id": "f1817011",
   "metadata": {},
   "source": [
    "Creating State for the graph"
   ]
  },
  {
   "cell_type": "code",
   "execution_count": 481,
   "id": "500243c3",
   "metadata": {},
   "outputs": [],
   "source": [
    "class AgentState(TypedDict):\n",
    "    inputs : Annotated[Sequence[BaseMessage], operator.add]"
   ]
  },
  {
   "cell_type": "markdown",
   "id": "f1af410f",
   "metadata": {},
   "source": [
    "Creating a Graph"
   ]
  },
  {
   "cell_type": "code",
   "execution_count": 482,
   "id": "32619763",
   "metadata": {},
   "outputs": [],
   "source": [
    "graph = StateGraph(AgentState)"
   ]
  },
  {
   "cell_type": "markdown",
   "id": "a840a1dd",
   "metadata": {},
   "source": [
    "Creating Function1 for Supervisor"
   ]
  },
  {
   "cell_type": "code",
   "execution_count": 483,
   "id": "ea96e094",
   "metadata": {},
   "outputs": [],
   "source": [
    "def function1(state: AgentState):\n",
    "    print(\"-> Supervisor Node <-\")\n",
    "    last_message = state[\"inputs\"][-1]\n",
    "    function1_response = supervisor_llm_chain.invoke({\"query\":str(last_message)})\n",
    "\n",
    "    return {\"inputs\":[bool(function1_response.is_related),function1_response.reasoning]}"
   ]
  },
  {
   "cell_type": "code",
   "execution_count": 263,
   "id": "2844ddde",
   "metadata": {},
   "outputs": [],
   "source": [
    "a = {\"in\":[True,\"Hi\"]}"
   ]
  },
  {
   "cell_type": "markdown",
   "id": "5d61bbe8",
   "metadata": {},
   "source": [
    "Adding function1 as a node in Graph"
   ]
  },
  {
   "cell_type": "code",
   "execution_count": 484,
   "id": "81d23b45",
   "metadata": {},
   "outputs": [
    {
     "data": {
      "text/plain": [
       "<langgraph.graph.state.StateGraph at 0x2c48fa33130>"
      ]
     },
     "execution_count": 484,
     "metadata": {},
     "output_type": "execute_result"
    }
   ],
   "source": [
    "graph.add_node(\"Supervisor\",function1)"
   ]
  },
  {
   "cell_type": "code",
   "execution_count": 426,
   "id": "7631b858",
   "metadata": {},
   "outputs": [
    {
     "name": "stdout",
     "output_type": "stream",
     "text": [
      "-> Supervisor Node <-\n"
     ]
    },
    {
     "data": {
      "text/plain": [
       "{'inputs': [False,\n",
       "  'The query is about Nelson Mandela, who is a significant figure in South African history and not directly related to India.']}"
      ]
     },
     "execution_count": 426,
     "metadata": {},
     "output_type": "execute_result"
    }
   ],
   "source": [
    "s = {\"inputs\":[\"Tell me about Nelson Mandela\"]}\n",
    "function1(s)"
   ]
  },
  {
   "cell_type": "markdown",
   "id": "6eaeb751",
   "metadata": {},
   "source": [
    "Creating Function2 for RAG Node"
   ]
  },
  {
   "cell_type": "code",
   "execution_count": 485,
   "id": "0c659346",
   "metadata": {},
   "outputs": [],
   "source": [
    "def function2(state: AgentState):\n",
    "    print(\"-> RAG Call <-\")\n",
    "    last_message = state[\"inputs\"][0]\n",
    "    function2_response = RAG_Chain.invoke(last_message)\n",
    "    print(function2_response)\n",
    "\n",
    "    return {\"inputs\":[function2_response]}"
   ]
  },
  {
   "cell_type": "markdown",
   "id": "0a9d3111",
   "metadata": {},
   "source": [
    "Adding Function2 as RAG node to the graph"
   ]
  },
  {
   "cell_type": "code",
   "execution_count": 486,
   "id": "1916e0c4",
   "metadata": {},
   "outputs": [
    {
     "data": {
      "text/plain": [
       "<langgraph.graph.state.StateGraph at 0x2c48fa33130>"
      ]
     },
     "execution_count": 486,
     "metadata": {},
     "output_type": "execute_result"
    }
   ],
   "source": [
    "graph.add_node(\"RAG\",function2)"
   ]
  },
  {
   "cell_type": "markdown",
   "id": "65afd8b2",
   "metadata": {},
   "source": [
    "Creating Function3 for \"Ansswering LLM\" Node"
   ]
  },
  {
   "cell_type": "code",
   "execution_count": 487,
   "id": "05a623af",
   "metadata": {},
   "outputs": [],
   "source": [
    "def function3(state:AgentState):\n",
    "    print(\"-> Answering LLM Call <-\")\n",
    "    last_message = state[\"inputs\"][0]\n",
    "    function3_response = answering_llm_chain.invoke(last_message)\n",
    "\n",
    "    return {\"inputs\":[bool(function3_response.in_scope), function3_response.answer]}"
   ]
  },
  {
   "cell_type": "code",
   "execution_count": 488,
   "id": "cc1df8c5",
   "metadata": {},
   "outputs": [
    {
     "name": "stdout",
     "output_type": "stream",
     "text": [
      "True\n",
      "Hello! How can I assist you today?\n"
     ]
    }
   ],
   "source": [
    "response = answering_llm_chain.invoke(\"Hi\")\n",
    "print(response.in_scope)\n",
    "print(response.answer)"
   ]
  },
  {
   "cell_type": "markdown",
   "id": "56e813be",
   "metadata": {},
   "source": [
    "Adding Function3 as \"Answering Node\" in the graph"
   ]
  },
  {
   "cell_type": "code",
   "execution_count": 489,
   "id": "ab911f79",
   "metadata": {},
   "outputs": [
    {
     "data": {
      "text/plain": [
       "<langgraph.graph.state.StateGraph at 0x2c48fa33130>"
      ]
     },
     "execution_count": 489,
     "metadata": {},
     "output_type": "execute_result"
    }
   ],
   "source": [
    "graph.add_node(\"Answering LLM\",function3)"
   ]
  },
  {
   "cell_type": "markdown",
   "id": "d7e152ce",
   "metadata": {},
   "source": [
    "Creating Function4 for Tavily Tool Call"
   ]
  },
  {
   "cell_type": "code",
   "execution_count": 490,
   "id": "eb02a02a",
   "metadata": {},
   "outputs": [],
   "source": [
    "def function4(state:AgentState):\n",
    "    print(\"-> Tavily Tool Call <-\")\n",
    "    last_message = state[\"inputs\"][-1]\n",
    "    function4_response = tavily_tool(last_message)\n",
    "\n",
    "    return {\"inputs\":[function4_response]}"
   ]
  },
  {
   "cell_type": "markdown",
   "id": "4147f15f",
   "metadata": {},
   "source": [
    "Adding Function4 as Tavily Tool Calling Node in the graph."
   ]
  },
  {
   "cell_type": "code",
   "execution_count": 491,
   "id": "96addd33",
   "metadata": {},
   "outputs": [
    {
     "data": {
      "text/plain": [
       "<langgraph.graph.state.StateGraph at 0x2c48fa33130>"
      ]
     },
     "execution_count": 491,
     "metadata": {},
     "output_type": "execute_result"
    }
   ],
   "source": [
    "graph.add_node(\"Tavily Tool\",function4)"
   ]
  },
  {
   "cell_type": "markdown",
   "id": "06ccaefe",
   "metadata": {},
   "source": [
    "Creating Function5 for \"Validator Node\""
   ]
  },
  {
   "cell_type": "code",
   "execution_count": 492,
   "id": "c8fd8661",
   "metadata": {},
   "outputs": [],
   "source": [
    "def function5(state:AgentState):\n",
    "    print(\"-> Validator Call <-\")\n",
    "    query = state[\"inputs\"][0]\n",
    "    answer = state[\"inputs\"][-1]\n",
    "    function4_response = validator_llm_chain.invoke({\"og_query\":query, \"answer\":answer})\n",
    "\n",
    "    return {\"inputs\": [bool(function4_response.is_valid),function4_response.answer]}"
   ]
  },
  {
   "cell_type": "code",
   "execution_count": 468,
   "id": "d8d255fe",
   "metadata": {},
   "outputs": [
    {
     "name": "stdout",
     "output_type": "stream",
     "text": [
      "-> Validator Call <-\n"
     ]
    },
    {
     "data": {
      "text/plain": [
       "{'inputs': [False, 'Tell me about Nelson Mandela']}"
      ]
     },
     "execution_count": 468,
     "metadata": {},
     "output_type": "execute_result"
    }
   ],
   "source": [
    "function5(s)"
   ]
  },
  {
   "cell_type": "markdown",
   "id": "db00bb19",
   "metadata": {},
   "source": [
    "Adding Function5 as \"Validator Node\" in the graph"
   ]
  },
  {
   "cell_type": "code",
   "execution_count": 493,
   "id": "a4ebbf15",
   "metadata": {},
   "outputs": [
    {
     "data": {
      "text/plain": [
       "<langgraph.graph.state.StateGraph at 0x2c48fa33130>"
      ]
     },
     "execution_count": 493,
     "metadata": {},
     "output_type": "execute_result"
    }
   ],
   "source": [
    "graph.add_node(\"Validator\",function5)"
   ]
  },
  {
   "cell_type": "code",
   "execution_count": 494,
   "id": "3f1d8d79",
   "metadata": {},
   "outputs": [],
   "source": [
    "def router1(state: AgentState):\n",
    "    print(\"-> Router 1 <-\")\n",
    "\n",
    "    last_message = state[\"inputs\"][-2]\n",
    "\n",
    "    if last_message:\n",
    "        return \"RAG Call\"\n",
    "    else:\n",
    "        return \"LLM Call\"\n",
    "        "
   ]
  },
  {
   "cell_type": "markdown",
   "id": "27c43724",
   "metadata": {},
   "source": [
    "Setting Entry point for the graph"
   ]
  },
  {
   "cell_type": "code",
   "execution_count": 495,
   "id": "39009f5c",
   "metadata": {},
   "outputs": [
    {
     "data": {
      "text/plain": [
       "<langgraph.graph.state.StateGraph at 0x2c48fa33130>"
      ]
     },
     "execution_count": 495,
     "metadata": {},
     "output_type": "execute_result"
    }
   ],
   "source": [
    "graph.set_entry_point(\"Supervisor\")"
   ]
  },
  {
   "cell_type": "code",
   "execution_count": 496,
   "id": "f20a6348",
   "metadata": {},
   "outputs": [
    {
     "data": {
      "text/plain": [
       "<langgraph.graph.state.StateGraph at 0x2c48fa33130>"
      ]
     },
     "execution_count": 496,
     "metadata": {},
     "output_type": "execute_result"
    }
   ],
   "source": [
    "graph.add_conditional_edges(\n",
    "    \"Supervisor\",\n",
    "    router1,\n",
    "    {\n",
    "        \"RAG Call\":\"RAG\",\n",
    "        \"LLM Call\":\"Answering LLM\"\n",
    "    }\n",
    "    )"
   ]
  },
  {
   "cell_type": "code",
   "execution_count": 497,
   "id": "dabe1cdb",
   "metadata": {},
   "outputs": [
    {
     "data": {
      "text/plain": [
       "<langgraph.graph.state.StateGraph at 0x2c48fa33130>"
      ]
     },
     "execution_count": 497,
     "metadata": {},
     "output_type": "execute_result"
    }
   ],
   "source": [
    "graph.add_edge(\"RAG\", \"Validator\")"
   ]
  },
  {
   "cell_type": "code",
   "execution_count": 498,
   "id": "4f9b47cd",
   "metadata": {},
   "outputs": [],
   "source": [
    "def router2(state: AgentState):\n",
    "    print(\"-> Router 2 <-\")\n",
    "    last_message = state[\"inputs\"][-2]\n",
    "\n",
    "    if last_message :\n",
    "        return \"Validator Call\"\n",
    "    else:\n",
    "        return \"Tavily\""
   ]
  },
  {
   "cell_type": "code",
   "execution_count": 499,
   "id": "9ecafd70",
   "metadata": {},
   "outputs": [
    {
     "data": {
      "text/plain": [
       "<langgraph.graph.state.StateGraph at 0x2c48fa33130>"
      ]
     },
     "execution_count": 499,
     "metadata": {},
     "output_type": "execute_result"
    }
   ],
   "source": [
    "graph.add_conditional_edges(\n",
    "    \"Answering LLM\",\n",
    "    router2,\n",
    "    {\n",
    "        \"Validator Call\": \"Validator\",\n",
    "        \"Tavily\" : \"Tavily Tool\"\n",
    "    }\n",
    ")"
   ]
  },
  {
   "cell_type": "code",
   "execution_count": 500,
   "id": "1c2ec2c2",
   "metadata": {},
   "outputs": [
    {
     "data": {
      "text/plain": [
       "<langgraph.graph.state.StateGraph at 0x2c48fa33130>"
      ]
     },
     "execution_count": 500,
     "metadata": {},
     "output_type": "execute_result"
    }
   ],
   "source": [
    "graph.add_edge(\"Tavily Tool\", \"Validator\")"
   ]
  },
  {
   "cell_type": "code",
   "execution_count": 501,
   "id": "e44784ff",
   "metadata": {},
   "outputs": [],
   "source": [
    "def router3(state:AgentState):\n",
    "    last_message = state[\"inputs\"][-2]\n",
    "    \n",
    "    if last_message:\n",
    "        return \"END\"\n",
    "    else:\n",
    "        return \"Supervisor Call\""
   ]
  },
  {
   "cell_type": "code",
   "execution_count": 502,
   "id": "ee2ba993",
   "metadata": {},
   "outputs": [
    {
     "data": {
      "text/plain": [
       "<langgraph.graph.state.StateGraph at 0x2c48fa33130>"
      ]
     },
     "execution_count": 502,
     "metadata": {},
     "output_type": "execute_result"
    }
   ],
   "source": [
    "graph.add_conditional_edges(\n",
    "    \"Validator\",\n",
    "    router3,\n",
    "    {\n",
    "        \"Supervisor Call\":\"Supervisor\",\n",
    "        \"END\":END\n",
    "\n",
    "    }\n",
    ")"
   ]
  },
  {
   "cell_type": "code",
   "execution_count": 503,
   "id": "b2ab4ec1",
   "metadata": {},
   "outputs": [],
   "source": [
    "app = graph.compile()"
   ]
  },
  {
   "cell_type": "code",
   "execution_count": 518,
   "id": "5e5ce331",
   "metadata": {},
   "outputs": [
    {
     "data": {
      "image/png": "[encoded data removed]",
      "text/plain": [
       "<langgraph.graph.state.CompiledStateGraph object at 0x000002C48FA53970>"
      ]
     },
     "execution_count": 518,
     "metadata": {},
     "output_type": "execute_result"
    }
   ],
   "source": [
    "app"
   ]
  },
  {
   "cell_type": "code",
   "execution_count": 510,
   "id": "4ea33365",
   "metadata": {},
   "outputs": [
    {
     "name": "stdout",
     "output_type": "stream",
     "text": [
      "-> Supervisor Node <-\n",
      "-> Router 1 <-\n",
      "-> RAG Call <-\n",
      "<think>\n",
      "Okay, so I need to figure out how to respond to the user's query about the stock price of Bajaj using only the context provided. Let me look at the context again. \n",
      "\n",
      "The context has three points:\n",
      "\n",
      "1. The construction cost for a building was ₹8.3 million (US$98,000).\n",
      "2. The economy of Punjab is the 15th-largest state economy in India with ₹8.\n",
      "3. Pakistan claimed they downed several Indian jets and damaged infrastructure.\n",
      "\n",
      "Hmm, none of these points mention anything about Bajaj or its stock price. The first point talks about construction costs, the second about Punjab's economy, and the third about a military incident between India and Pakistan.\n",
      "\n",
      "I think the user is asking for specific financial data about Bajaj, which isn't covered here. So, I should inform them that the context doesn't provide that information. Maybe I can suggest they look up a financial website or news source for the latest stock prices.\n",
      "</think>\n",
      "\n",
      "The context provided does not include any information about the stock price of Bajaj. For the most accurate and up-to-date stock price information, I recommend checking financial news websites or stock market tracking platforms.\n",
      "-> Validator Call <-\n",
      "-> Supervisor Node <-\n",
      "-> Router 1 <-\n",
      "-> RAG Call <-\n",
      "<think>\n",
      "Okay, so I'm trying to figure out the stock price of Bajaj based on the context provided. Let me read through the context again. The context has three points:\n",
      "\n",
      "1. The construction cost for the building was ₹8.3 million (US$98,000).\n",
      "2. At present, the economy of Punjab is the 15th-largest state economy in India with ₹8.\n",
      "3. In return, Pakistan said they had downed a number of Indian jets and damaged Indian infrastructure.\n",
      "\n",
      "Hmm, none of these points mention anything about Bajaj or its stock price. The first point talks about construction costs, the second about Punjab's economy, and the third about a military incident between India and Pakistan. \n",
      "\n",
      "Since there's no information related to Bajaj's stock price in the context, I can't provide an answer based on what's given. I should inform the user that the context doesn't include the necessary details about Bajaj's stock.\n",
      "</think>\n",
      "\n",
      "The context provided does not include any information related to the stock price of Bajaj. Therefore, I cannot provide an answer based on the given context.\n",
      "-> Validator Call <-\n",
      "-> Supervisor Node <-\n",
      "-> Router 1 <-\n",
      "-> Answering LLM Call <-\n",
      "-> Router 2 <-\n",
      "-> Tavily Tool Call <-\n",
      "-> Validator Call <-\n"
     ]
    },
    {
     "data": {
      "text/plain": [
       "{'inputs': ['Tell me about the stock price of Bajaj?',\n",
       "  True,\n",
       "  'The query is about the stock price of Bajaj, which is an Indian company.',\n",
       "  \"<think>\\nOkay, so I need to figure out how to respond to the user's query about the stock price of Bajaj using only the context provided. Let me look at the context again. \\n\\nThe context has three points:\\n\\n1. The construction cost for a building was ₹8.3 million (US$98,000).\\n2. The economy of Punjab is the 15th-largest state economy in India with ₹8.\\n3. Pakistan claimed they downed several Indian jets and damaged infrastructure.\\n\\nHmm, none of these points mention anything about Bajaj or its stock price. The first point talks about construction costs, the second about Punjab's economy, and the third about a military incident between India and Pakistan.\\n\\nI think the user is asking for specific financial data about Bajaj, which isn't covered here. So, I should inform them that the context doesn't provide that information. Maybe I can suggest they look up a financial website or news source for the latest stock prices.\\n</think>\\n\\nThe context provided does not include any information about the stock price of Bajaj. For the most accurate and up-to-date stock price information, I recommend checking financial news websites or stock market tracking platforms.\",\n",
       "  False,\n",
       "  'The context provided does not include any information about the stock price of Bajaj. For the most accurate and up-to-date stock price information, I recommend checking financial news websites or stock market tracking platforms.',\n",
       "  True,\n",
       "  'The query mentions Bajaj, which is a well-known company in India, specifically Bajaj Auto.',\n",
       "  \"<think>\\nOkay, so I'm trying to figure out the stock price of Bajaj based on the context provided. Let me read through the context again. The context has three points:\\n\\n1. The construction cost for the building was ₹8.3 million (US$98,000).\\n2. At present, the economy of Punjab is the 15th-largest state economy in India with ₹8.\\n3. In return, Pakistan said they had downed a number of Indian jets and damaged Indian infrastructure.\\n\\nHmm, none of these points mention anything about Bajaj or its stock price. The first point talks about construction costs, the second about Punjab's economy, and the third about a military incident between India and Pakistan. \\n\\nSince there's no information related to Bajaj's stock price in the context, I can't provide an answer based on what's given. I should inform the user that the context doesn't include the necessary details about Bajaj's stock.\\n</think>\\n\\nThe context provided does not include any information related to the stock price of Bajaj. Therefore, I cannot provide an answer based on the given context.\",\n",
       "  False,\n",
       "  'The context does not include information about the stock price of Bajaj.',\n",
       "  False,\n",
       "  \"The query mentions Bajaj, an Indian company, but it's about the absence of stock price information, which is a general financial topic and not specifically related to India.\",\n",
       "  False,\n",
       "  \"I'm unable to provide real-time stock prices, including the current price of Bajaj stocks. For the most accurate and up-to-date information, I recommend checking financial news websites, stock market apps, or the official Bajaj website.\",\n",
       "  'The current price of Bajaj Finance stock is ₹9,371.50 as of June 12, 2025. This price reflects recent market activity. For real-time updates, consult financial news websites or stock market apps.',\n",
       "  True,\n",
       "  'The current price of Bajaj Finance stock is ₹9,371.50 as of June 12, 2025. This price reflects recent market activity. For real-time updates, consult financial news websites or stock market apps.']}"
      ]
     },
     "execution_count": 510,
     "metadata": {},
     "output_type": "execute_result"
    }
   ],
   "source": [
    "app.invoke({\"inputs\":[\"Tell me about the stock price of Bajaj?\"]})"
   ]
  },
  {
   "cell_type": "code",
   "execution_count": 511,
   "id": "b05fbea4",
   "metadata": {},
   "outputs": [
    {
     "name": "stdout",
     "output_type": "stream",
     "text": [
      "-> Supervisor Node <-\n",
      "-> Router 1 <-\n",
      "-> RAG Call <-\n",
      "<think>\n",
      "Alright, I need to figure out how to respond to the user's query. They're asking about an airplane crash that happened on June 12, 2025, in India. The context provided is a list of events for 2025 in India, but looking through it, I only see two points about a ceasefire between India and Pakistan on May 10, 2025. There's nothing mentioned about an airplane crash in June.\n",
      "\n",
      "Hmm, so the context doesn't include any information about an aircrash on that date. The user is probably looking for details about that specific event, but since it's not in the context, I can't provide any information from the given data. I should let them know that there's no information available based on what's provided. Maybe I can suggest checking other sources or waiting for more updates if they need more details.\n",
      "</think>\n",
      "\n",
      "Based on the provided context, there is no information available regarding an airplane crash that occurred on June 12, 2025, in India. The context only mentions events related to a ceasefire between India and Pakistan on May 10, 2025. If you need more details about this event, you might want to consult additional sources or wait for further updates.\n",
      "-> Validator Call <-\n",
      "-> Supervisor Node <-\n",
      "-> Router 1 <-\n",
      "-> RAG Call <-\n",
      "<think>\n",
      "Okay, so the user is asking about an airplane crash that happened on June 12, 2025, in India. They want me to provide information based on the context given. Let me check the context provided.\n",
      "\n",
      "Looking at the context, it's a list of events for 2025 in India. The first point mentions a ceasefire announced on May 10, 2025, between India and Pakistan. The second point repeats the same information, just phrased differently. There's no mention of any airplane crash or incident related to aviation.\n",
      "\n",
      "I need to make sure I don't add any information beyond what's given. Since the context doesn't include the crash, I should inform the user that the details aren't available here. I should also consider that the user might be looking for information on a specific event, so maybe they have a typo or are referring to a different year or date.\n",
      "\n",
      "I should phrase my response clearly, stating that the context doesn't include the crash and offer to help with other events if they need. That way, I'm being helpful without providing incorrect information.\n",
      "</think>\n",
      "\n",
      "The context provided does not contain any information about an airplane crash that occurred on June 12, 2025, in India. The context only mentions events related to a ceasefire between India and Pakistan. If you have any other questions or need information about other events, feel free to ask!\n",
      "-> Validator Call <-\n",
      "-> Supervisor Node <-\n",
      "-> Router 1 <-\n",
      "-> RAG Call <-\n",
      "<think>\n",
      "Okay, so the user is asking about an airplane crash that happened on June 12, 2025, in India. They provided a context, which is a list of events for 2025 in India. Let me look at the context again.\n",
      "\n",
      "The context mentions a ceasefire on May 10, 2025, between India and Pakistan, and that military hostilities continued until that date. There's nothing else mentioned about any other events, especially not about an airplane crash. \n",
      "\n",
      "Hmm, so the user is specifically asking about a crash on June 12, 2025. But according to the provided context, there's no information about such an event. The context only talks about the ceasefire and military hostilities. \n",
      "\n",
      "I should make sure not to add any external knowledge, as the instructions say to strictly use the provided context. So, the correct response is that there's no information about an airplane crash on that date in the given context. I should let the user know that the context doesn't mention it and maybe suggest they check a more comprehensive source if needed.\n",
      "</think>\n",
      "\n",
      "The context provided does not mention any information about an airplane crash happening on June 12, 2025, in India. It only discusses a ceasefire agreement between India and Pakistan on May 10, 2025, and the continuation of military hostilities until that date. Therefore, there is no details about such an event in the given context. If you need more information, you might want to refer to additional sources or updates beyond the provided context.\n",
      "-> Validator Call <-\n",
      "-> Supervisor Node <-\n",
      "-> Router 1 <-\n",
      "-> RAG Call <-\n",
      "<think>\n",
      "Alright, so the user is asking about an airplane crash that happened on June 12, 2025, in India. Let me check the context provided to see if I can find any relevant information.\n",
      "\n",
      "Looking at the context, it lists events for 2025 in India. The first point mentions a ceasefire announced on May 10, 2025, between India and Pakistan. The second point also talks about military hostilities continuing until the same ceasefire date, May 10. There's nothing mentioned about any airplane crash in June.\n",
      "\n",
      "Hmm, the user might be referring to a future event or perhaps a hypothetical scenario. Since the context only includes information up to May 10, 2025, and doesn't mention anything about a crash on June 12, I can't provide any details on that.\n",
      "\n",
      "I should let the user know that there's no information available in the provided context about such an event. Maybe they can check another source or wait for more updates if they're looking for specific details about that date.\n",
      "</think>\n",
      "\n",
      "Based on the provided context, there is no information available about an airplane crash that occurred on June 12, 2025, in India. The context only mentions events related to a ceasefire between India and Pakistan on May 10, 2025.\n",
      "-> Validator Call <-\n",
      "-> Supervisor Node <-\n",
      "-> Router 1 <-\n",
      "-> RAG Call <-\n",
      "<think>\n",
      "Okay, so the user is asking about an airplane crash that happened on June 12, 2025, in India. They want me to provide information based on the context they've given. Let me look at the context provided. \n",
      "\n",
      "The context mentions two events: a ceasefire announced on May 10, 2025, between India and Pakistan, and that military hostilities continued until that ceasefire was reached. There's nothing else mentioned about any other events in 2025, especially not about an airplane crash.\n",
      "\n",
      "Hmm, the user is specifically asking about a crash on that date. Since the context doesn't include any information about such an event, I should inform them that there's no data available on that topic. I need to make sure I don't make up any information or speculate, as that could be misleading. \n",
      "\n",
      "I should phrase it politely, letting them know that based on the context provided, there's no information about an aircrash on that date. Maybe suggest they check other sources if they're looking for details on that specific incident.\n",
      "</think>\n",
      "\n",
      "Based on the context provided, there is no information available about an aircrash that occurred on 12 June 2025 in India. The context only mentions events related to a ceasefire between India and Pakistan. If you're looking for details about a specific aircrash, you may need to refer to other sources or wait for more information.\n",
      "-> Validator Call <-\n",
      "-> Supervisor Node <-\n",
      "-> Router 1 <-\n",
      "-> RAG Call <-\n",
      "<think>\n",
      "Okay, so the user is asking about an airplane crash that happened on June 12, 2025, in India. I need to answer based only on the context provided. Let me look at the context again. It mentions a ceasefire on May 10, 2025, between India and Pakistan, and that military hostilities continued until that date. There's nothing about any airplane crash in the context. \n",
      "\n",
      "Hmm, so the user might have a specific event in mind, but it's not covered in the given information. I should let them know that there's no data on that topic in the context provided. Maybe I can suggest they check other sources if they need more details. I should keep the response clear and concise, avoiding any assumptions beyond what's given.\n",
      "</think>\n",
      "\n",
      "The context provided does not include any information about an airplane crash that occurred on June 12, 2025, in India. Therefore, I cannot provide any details about such an event.\n",
      "-> Validator Call <-\n",
      "-> Supervisor Node <-\n",
      "-> Router 1 <-\n",
      "-> RAG Call <-\n",
      "<think>\n",
      "Okay, so the user is asking about an airplane crash that happened on June 12, 2025, in India. They want me to answer using only the context provided. Let me look at the context again. It says there's a list of events for 2025 in India, specifically mentioning a ceasefire on May 10, 2025, between India and Pakistan, and that military hostilities continued until that ceasefire.\n",
      "\n",
      "Hmm, the context doesn't mention anything about an airplane crash on June 12, 2025. It only talks about the ceasefire. I need to make sure I don't add any information that's not there. So, I should inform the user that the context doesn't include details about that specific event. I should keep it clear and not provide any false information.\n",
      "</think>\n",
      "\n",
      "The context provided does not include any information about an airplane crash on June 12, 2025, in India. The only events mentioned are related to a ceasefire between India and Pakistan on May 10, 2025.\n",
      "-> Validator Call <-\n",
      "-> Supervisor Node <-\n",
      "-> Router 1 <-\n",
      "-> RAG Call <-\n",
      "<think>\n",
      "Alright, I need to respond to the user's query about an air crash on June 12, 2025, in India. Let me check the context provided. The context lists events for 2025 in India, but it only mentions a ceasefire on May 10, 2025, between India and Pakistan, with military hostilities continuing until that date. There's no mention of any air crash happening on June 12, 2025. \n",
      "\n",
      "So, based on the given context, I can't provide any information about that specific event. I should inform the user that the context doesn't include details about an air crash on that date. I'll make sure to be clear and concise, avoiding any assumptions beyond what's provided.\n",
      "</think>\n",
      "\n",
      "The context provided does not include any information about an air crash that occurred on June 12, 2025, in India. Therefore, I cannot provide details about such an event based on the given information.\n",
      "-> Validator Call <-\n"
     ]
    },
    {
     "data": {
      "text/plain": [
       "{'inputs': ['Tell me about the aircrash happened on 12 June 2025 in India?',\n",
       "  True,\n",
       "  'The query specifically mentions India as the location of the aircrash, indicating it is related to India.',\n",
       "  \"<think>\\nAlright, I need to figure out how to respond to the user's query. They're asking about an airplane crash that happened on June 12, 2025, in India. The context provided is a list of events for 2025 in India, but looking through it, I only see two points about a ceasefire between India and Pakistan on May 10, 2025. There's nothing mentioned about an airplane crash in June.\\n\\nHmm, so the context doesn't include any information about an aircrash on that date. The user is probably looking for details about that specific event, but since it's not in the context, I can't provide any information from the given data. I should let them know that there's no information available based on what's provided. Maybe I can suggest checking other sources or waiting for more updates if they need more details.\\n</think>\\n\\nBased on the provided context, there is no information available regarding an airplane crash that occurred on June 12, 2025, in India. The context only mentions events related to a ceasefire between India and Pakistan on May 10, 2025. If you need more details about this event, you might want to consult additional sources or wait for further updates.\",\n",
       "  False,\n",
       "  'There is no information available about an airplane crash that occurred on June 12, 2025, in India in the provided context.',\n",
       "  True,\n",
       "  'The query mentions India as the location of the airplane crash, indicating it is related to India.',\n",
       "  \"<think>\\nOkay, so the user is asking about an airplane crash that happened on June 12, 2025, in India. They want me to provide information based on the context given. Let me check the context provided.\\n\\nLooking at the context, it's a list of events for 2025 in India. The first point mentions a ceasefire announced on May 10, 2025, between India and Pakistan. The second point repeats the same information, just phrased differently. There's no mention of any airplane crash or incident related to aviation.\\n\\nI need to make sure I don't add any information beyond what's given. Since the context doesn't include the crash, I should inform the user that the details aren't available here. I should also consider that the user might be looking for information on a specific event, so maybe they have a typo or are referring to a different year or date.\\n\\nI should phrase my response clearly, stating that the context doesn't include the crash and offer to help with other events if they need. That way, I'm being helpful without providing incorrect information.\\n</think>\\n\\nThe context provided does not contain any information about an airplane crash that occurred on June 12, 2025, in India. The context only mentions events related to a ceasefire between India and Pakistan. If you have any other questions or need information about other events, feel free to ask!\",\n",
       "  False,\n",
       "  'There is no information available in the provided context about an airplane crash that occurred on June 12, 2025, in India. The context only mentions a ceasefire between India and Pakistan on May 10, 2025.',\n",
       "  True,\n",
       "  'The query mentions India in the context of a ceasefire with Pakistan, indicating it is related to India.',\n",
       "  \"<think>\\nOkay, so the user is asking about an airplane crash that happened on June 12, 2025, in India. They provided a context, which is a list of events for 2025 in India. Let me look at the context again.\\n\\nThe context mentions a ceasefire on May 10, 2025, between India and Pakistan, and that military hostilities continued until that date. There's nothing else mentioned about any other events, especially not about an airplane crash. \\n\\nHmm, so the user is specifically asking about a crash on June 12, 2025. But according to the provided context, there's no information about such an event. The context only talks about the ceasefire and military hostilities. \\n\\nI should make sure not to add any external knowledge, as the instructions say to strictly use the provided context. So, the correct response is that there's no information about an airplane crash on that date in the given context. I should let the user know that the context doesn't mention it and maybe suggest they check a more comprehensive source if needed.\\n</think>\\n\\nThe context provided does not mention any information about an airplane crash happening on June 12, 2025, in India. It only discusses a ceasefire agreement between India and Pakistan on May 10, 2025, and the continuation of military hostilities until that date. Therefore, there is no details about such an event in the given context. If you need more information, you might want to refer to additional sources or updates beyond the provided context.\",\n",
       "  False,\n",
       "  'There is no information available about an airplane crash on June 12, 2025, in India within the provided context.',\n",
       "  True,\n",
       "  \"The query mentions 'in India', indicating that the topic is related to India.\",\n",
       "  \"<think>\\nAlright, so the user is asking about an airplane crash that happened on June 12, 2025, in India. Let me check the context provided to see if I can find any relevant information.\\n\\nLooking at the context, it lists events for 2025 in India. The first point mentions a ceasefire announced on May 10, 2025, between India and Pakistan. The second point also talks about military hostilities continuing until the same ceasefire date, May 10. There's nothing mentioned about any airplane crash in June.\\n\\nHmm, the user might be referring to a future event or perhaps a hypothetical scenario. Since the context only includes information up to May 10, 2025, and doesn't mention anything about a crash on June 12, I can't provide any details on that.\\n\\nI should let the user know that there's no information available in the provided context about such an event. Maybe they can check another source or wait for more updates if they're looking for specific details about that date.\\n</think>\\n\\nBased on the provided context, there is no information available about an airplane crash that occurred on June 12, 2025, in India. The context only mentions events related to a ceasefire between India and Pakistan on May 10, 2025.\",\n",
       "  False,\n",
       "  'There is no information available about an airplane crash that occurred on June 12, 2025, in India.',\n",
       "  True,\n",
       "  \"The query explicitly mentions 'India' as the location of the airplane crash, indicating it is related to India.\",\n",
       "  \"<think>\\nOkay, so the user is asking about an airplane crash that happened on June 12, 2025, in India. They want me to provide information based on the context they've given. Let me look at the context provided. \\n\\nThe context mentions two events: a ceasefire announced on May 10, 2025, between India and Pakistan, and that military hostilities continued until that ceasefire was reached. There's nothing else mentioned about any other events in 2025, especially not about an airplane crash.\\n\\nHmm, the user is specifically asking about a crash on that date. Since the context doesn't include any information about such an event, I should inform them that there's no data available on that topic. I need to make sure I don't make up any information or speculate, as that could be misleading. \\n\\nI should phrase it politely, letting them know that based on the context provided, there's no information about an aircrash on that date. Maybe suggest they check other sources if they're looking for details on that specific incident.\\n</think>\\n\\nBased on the context provided, there is no information available about an aircrash that occurred on 12 June 2025 in India. The context only mentions events related to a ceasefire between India and Pakistan. If you're looking for details about a specific aircrash, you may need to refer to other sources or wait for more information.\",\n",
       "  False,\n",
       "  'There is no information available about an aircrash that occurred on 12 June 2025 in India based on the provided context.',\n",
       "  True,\n",
       "  \"The query mentions 'India' explicitly, indicating it is related to the country.\",\n",
       "  \"<think>\\nOkay, so the user is asking about an airplane crash that happened on June 12, 2025, in India. I need to answer based only on the context provided. Let me look at the context again. It mentions a ceasefire on May 10, 2025, between India and Pakistan, and that military hostilities continued until that date. There's nothing about any airplane crash in the context. \\n\\nHmm, so the user might have a specific event in mind, but it's not covered in the given information. I should let them know that there's no data on that topic in the context provided. Maybe I can suggest they check other sources if they need more details. I should keep the response clear and concise, avoiding any assumptions beyond what's given.\\n</think>\\n\\nThe context provided does not include any information about an airplane crash that occurred on June 12, 2025, in India. Therefore, I cannot provide any details about such an event.\",\n",
       "  False,\n",
       "  'The context provided does not include any information about an airplane crash that occurred on June 12, 2025, in India. Therefore, I cannot provide any details about such an event.',\n",
       "  True,\n",
       "  'The query explicitly mentions India as the location of the airplane crash, indicating it is related to India.',\n",
       "  \"<think>\\nOkay, so the user is asking about an airplane crash that happened on June 12, 2025, in India. They want me to answer using only the context provided. Let me look at the context again. It says there's a list of events for 2025 in India, specifically mentioning a ceasefire on May 10, 2025, between India and Pakistan, and that military hostilities continued until that ceasefire.\\n\\nHmm, the context doesn't mention anything about an airplane crash on June 12, 2025. It only talks about the ceasefire. I need to make sure I don't add any information that's not there. So, I should inform the user that the context doesn't include details about that specific event. I should keep it clear and not provide any false information.\\n</think>\\n\\nThe context provided does not include any information about an airplane crash on June 12, 2025, in India. The only events mentioned are related to a ceasefire between India and Pakistan on May 10, 2025.\",\n",
       "  False,\n",
       "  'The context provided does not include any information about an airplane crash on June 12, 2025, in India. The only events mentioned are related to a ceasefire between India and Pakistan on May 10, 2025.',\n",
       "  True,\n",
       "  'The query mentions a ceasefire between India and Pakistan, which relates to India.',\n",
       "  \"<think>\\nAlright, I need to respond to the user's query about an air crash on June 12, 2025, in India. Let me check the context provided. The context lists events for 2025 in India, but it only mentions a ceasefire on May 10, 2025, between India and Pakistan, with military hostilities continuing until that date. There's no mention of any air crash happening on June 12, 2025. \\n\\nSo, based on the given context, I can't provide any information about that specific event. I should inform the user that the context doesn't include details about an air crash on that date. I'll make sure to be clear and concise, avoiding any assumptions beyond what's provided.\\n</think>\\n\\nThe context provided does not include any information about an air crash that occurred on June 12, 2025, in India. Therefore, I cannot provide details about such an event based on the given information.\",\n",
       "  True,\n",
       "  'There is no information available about an air crash that occurred on June 12, 2025, in India.']}"
      ]
     },
     "execution_count": 511,
     "metadata": {},
     "output_type": "execute_result"
    }
   ],
   "source": [
    "app.invoke({\"inputs\":[\"Tell me about the aircrash happened on 12 June 2025 in India?\"]})"
   ]
  },
  {
   "cell_type": "code",
   "execution_count": 512,
   "id": "9b4ceaaf",
   "metadata": {},
   "outputs": [
    {
     "name": "stdout",
     "output_type": "stream",
     "text": [
      "-> Supervisor Node <-\n",
      "-> Router 1 <-\n",
      "-> RAG Call <-\n",
      "<think>\n",
      "Okay, so the user is asking about an airplane crash that happened on June 12, 2025, in India. They want me to provide information based only on the context they've given. Let me look at the context provided. \n",
      "\n",
      "The context lists events for 2025 in India. It mentions a ceasefire on May 10 after an agreement between India and Pakistan, and India launching missile strikes on Pakistan on May 7 under Operation Sindoor. That's it. There's no mention of any airplane crash, especially not on June 12.\n",
      "\n",
      "I should make sure I don't add any outside information since the instructions are strict about using only the provided context. So, the answer should clearly state that there's no information about such an event in the context. I should also avoid speculating or suggesting that maybe the user has a different source. Just stick to the facts given.\n",
      "\n",
      "Maybe the user is confused or has a typo in the date. But regardless, I can't help with that. I need to be clear and concise, letting them know the info isn't available in the provided context. No need to apologize or offer further help unless the user asks for it.\n",
      "</think>\n",
      "\n",
      "The context provided does not contain any information about an airplane crash that occurred on 12 June 2025 in India.\n",
      "-> Validator Call <-\n",
      "-> Supervisor Node <-\n",
      "-> Router 1 <-\n",
      "-> RAG Call <-\n",
      "<think>\n",
      "Okay, so the user is asking about an airplane crash that happened on June 12, 2025, in India. I need to answer based solely on the context provided. Let me look at the context again. It mentions a ceasefire on May 10, 2025, between India and Pakistan, and India launching missile strikes on Pakistan on May 7, 2025, called Operation Sindoor. There's nothing about any airplane crash in the context. \n",
      "\n",
      "Hmm, the user might have thought that because there were military actions, maybe there was a crash related to that, but the context doesn't mention it. I should make sure not to add any information outside the given context. So, I should politely say that there's no information about an airplane crash on that date in the provided context. Maybe suggest checking other sources if they need more details.\n",
      "</think>\n",
      "\n",
      "The context provided does not include any information about an airplane crash on 12 June 2025 in India. It only mentions a ceasefire agreement between India and Pakistan on 10 May 2025 and India launching missile strikes on Pakistan on 7 May 2025, codenamed Operation Sindoor. If you need information about the airplane crash, you may need to refer to other sources.\n",
      "-> Validator Call <-\n",
      "-> Supervisor Node <-\n",
      "-> Router 1 <-\n",
      "-> RAG Call <-\n",
      "<think>\n",
      "Okay, the user is asking about an airplane crash that happened on June 12, 2025, in India. I need to answer based only on the context provided. Let me check the context again.\n",
      "\n",
      "The context provided is a list of events for 2025 in India. It mentions a ceasefire on May 10, 2025, between India and Pakistan, and missile strikes by India on Pakistan on May 7, 2025, called Operation Sindoor. There's nothing else mentioned in the context about any other events, especially not an airplane crash on June 12.\n",
      "\n",
      "So, since the context doesn't include any information about an aircrash on that date, I should inform the user that the context doesn't cover that event. I'll make sure to be clear and not add any external information. I should also offer help with other information if they need it.\n",
      "\n",
      "I need to phrase this in a helpful way, letting them know I can't provide details on that specific crash but am here for other questions.\n",
      "</think>\n",
      "\n",
      "The context provided does not include any information about an airplane crash on June 12, 2025, in India. The events listed are a ceasefire on May 10, 2025, and missile strikes on May 7, 2025. If you're looking for details on a specific aircrash, the context doesn't cover that event. Feel free to ask if you need information on other topics!\n",
      "-> Validator Call <-\n",
      "-> Supervisor Node <-\n",
      "-> Router 1 <-\n",
      "-> RAG Call <-\n",
      "<think>\n",
      "Alright, so the user is asking about an airplane crash that happened on June 12, 2025, in India. They want me to provide information based solely on the context given. Let me look at the context provided.\n",
      "\n",
      "The context mentions two events in 2025: a ceasefire on May 10 and missile strikes by India on Pakistan on May 7. There's no mention of any airplane crash, especially not on June 12. \n",
      "\n",
      "Hmm, the user might have mistaken the date or the event. Maybe they confused it with another incident or perhaps they're referring to a different year. Since the context doesn't include any information about an aircrash on that date, I should inform them that there's no such event listed in the provided context.\n",
      "\n",
      "I should make sure to be clear and polite, letting them know I can't provide details on that specific crash because it's not mentioned. Maybe offer to help with other events if they have more questions.\n",
      "</think>\n",
      "\n",
      "I'm sorry, but I cannot provide information about an airplane crash that occurred on June 12, 2025, in India because such an event is not mentioned in the provided context. The context only includes information about a ceasefire and missile strikes between India and Pakistan in May 2025. If you have any other questions based on the provided context, feel free to ask!\n",
      "-> Validator Call <-\n",
      "-> Supervisor Node <-\n",
      "-> Router 1 <-\n",
      "-> RAG Call <-\n",
      "<think>\n",
      "Okay, so the user is asking about an airplane crash that happened on June 12, 2025, in India. They want me to use the provided context to answer their query. Let me look at the context given. \n",
      "\n",
      "The context lists events for 2025 in India. It mentions a ceasefire announced on May 10, 2025, between India and Pakistan, and missile strikes by India on Pakistan on May 7, 2025, called Operation Sindoor. There's no mention of any other events, especially nothing about an airplane crash in June. \n",
      "\n",
      "I should make sure I don't add any external information or assumptions. Since the context doesn't include the crash, I need to inform the user that the specific event isn't listed. I'll also offer to help with other information if needed. \n",
      "\n",
      "I should keep the response clear and concise, avoiding any speculation about the crash. It's important to stick strictly to the provided context as per the instructions.\n",
      "</think>\n",
      "\n",
      "The context provided does not mention an airplane crash occurring on 12 June 2025 in India. It only includes information about a ceasefire between India and Pakistan on 10 May 2025 and missile strikes by India on Pakistan on 7 May 2025. Therefore, I cannot provide details about the specific event you are asking for. Let me know if you'd like information on other topics!\n",
      "-> Validator Call <-\n",
      "-> Supervisor Node <-\n",
      "-> Router 1 <-\n",
      "-> RAG Call <-\n",
      "<think>\n",
      "Okay, so the user is asking about an airplane crash that happened on June 12, 2025, in India. I need to answer using only the context provided. Let me check the context again. The context lists events for 2025 in India. It mentions a ceasefire on May 10, and missile strikes on May 7. There's nothing about an airplane crash on June 12. Hmm, so I should inform the user that there's no information available about that specific event. Maybe also suggest they check other sources if they need more details. I should keep the response clear and concise, avoiding any speculation beyond the provided context.\n",
      "</think>\n",
      "\n",
      "There is no information available in the provided context about an airplane crash that occurred on June 12, 2025, in India. The context only mentions events related to a ceasefire and missile strikes between India and Pakistan in May 2025.\n",
      "-> Validator Call <-\n",
      "-> Supervisor Node <-\n",
      "-> Router 1 <-\n",
      "-> RAG Call <-\n",
      "<think>\n",
      "Okay, so the user is asking about an airplane crash that happened on June 12, 2025, in India. I need to answer based solely on the context provided. Let me look at the context again.\n",
      "\n",
      "The context mentions events in India for the year 2025. Specifically, it talks about a ceasefire announced on May 10, 2025, between India and Pakistan, following an agreement. Then, on May 7, 2025, India launched missile strikes on Pakistan, called Operation Sindoor. There's no mention of any airplane crash on June 12, 2025.\n",
      "\n",
      "So, based on this, I can't provide any information about the crash because it's not in the context. I should let the user know that the context doesn't include that event. Maybe I should also mention the events that are present to show I've checked thoroughly.\n",
      "\n",
      "I need to make sure my response is clear and helpful, without making up any information. I'll tell the user that there's no data on the crash in the provided context and briefly mention the other events to show I've reviewed the available information.\n",
      "</think>\n",
      "\n",
      "The context provided does not include any information about an airplane crash on June 12, 2025, in India. The details available pertain to a ceasefire announced on May 10, 2025, following an agreement between India and Pakistan, and India's missile strikes on Pakistan on May 7, 2025, known as Operation Sindoor. Therefore, I cannot provide details on the crash as it is not mentioned in the given context.\n",
      "-> Validator Call <-\n",
      "-> Supervisor Node <-\n",
      "-> Router 1 <-\n",
      "-> RAG Call <-\n",
      "<think>\n",
      "Okay, I need to figure out how to respond to the user's query about an airplane crash on June 12, 2025, in India. The user provided some context, but it's only about events in 2025, specifically mentioning a ceasefire and missile strikes between India and Pakistan. There's nothing in the context about any airplane crash. \n",
      "\n",
      "So, first, I should acknowledge the user's question. Then, explain that the context they provided doesn't include any information about an airplane crash on that date. I should make sure not to add any outside information since the instructions say to strictly use the provided context. \n",
      "\n",
      "I should keep the response clear and concise, letting them know that based on the given data, there's no mention of such an event. Maybe I can also suggest they provide more context if they have any, but since the instructions say to only use the given context, perhaps that's unnecessary.\n",
      "\n",
      "I need to avoid any assumptions or speculations. Just stick to what's provided. So the response should be straightforward, stating that there's no information available in the context about the crash they're asking about.\n",
      "</think>\n",
      "\n",
      "Based on the context provided, there is no information available regarding an airplane crash on June 12, 2025, in India. The context only mentions events related to a ceasefire and missile strikes between India and Pakistan in May 2025.\n",
      "-> Validator Call <-\n"
     ]
    },
    {
     "data": {
      "text/plain": [
       "{'inputs': ['Tell me about the aircrash happened on 12 June 2025 in India? you may use web search',\n",
       "  True,\n",
       "  'The query specifically mentions an airplane crash in India, indicating a clear relation to the country.',\n",
       "  \"<think>\\nOkay, so the user is asking about an airplane crash that happened on June 12, 2025, in India. They want me to provide information based only on the context they've given. Let me look at the context provided. \\n\\nThe context lists events for 2025 in India. It mentions a ceasefire on May 10 after an agreement between India and Pakistan, and India launching missile strikes on Pakistan on May 7 under Operation Sindoor. That's it. There's no mention of any airplane crash, especially not on June 12.\\n\\nI should make sure I don't add any outside information since the instructions are strict about using only the provided context. So, the answer should clearly state that there's no information about such an event in the context. I should also avoid speculating or suggesting that maybe the user has a different source. Just stick to the facts given.\\n\\nMaybe the user is confused or has a typo in the date. But regardless, I can't help with that. I need to be clear and concise, letting them know the info isn't available in the provided context. No need to apologize or offer further help unless the user asks for it.\\n</think>\\n\\nThe context provided does not contain any information about an airplane crash that occurred on 12 June 2025 in India.\",\n",
       "  False,\n",
       "  'There is no information available about an airplane crash that occurred on 12 June 2025 in India within the provided context.',\n",
       "  True,\n",
       "  \"The query mentions 'India' explicitly, indicating that the topic is related to India.\",\n",
       "  \"<think>\\nOkay, so the user is asking about an airplane crash that happened on June 12, 2025, in India. I need to answer based solely on the context provided. Let me look at the context again. It mentions a ceasefire on May 10, 2025, between India and Pakistan, and India launching missile strikes on Pakistan on May 7, 2025, called Operation Sindoor. There's nothing about any airplane crash in the context. \\n\\nHmm, the user might have thought that because there were military actions, maybe there was a crash related to that, but the context doesn't mention it. I should make sure not to add any information outside the given context. So, I should politely say that there's no information about an airplane crash on that date in the provided context. Maybe suggest checking other sources if they need more details.\\n</think>\\n\\nThe context provided does not include any information about an airplane crash on 12 June 2025 in India. It only mentions a ceasefire agreement between India and Pakistan on 10 May 2025 and India launching missile strikes on Pakistan on 7 May 2025, codenamed Operation Sindoor. If you need information about the airplane crash, you may need to refer to other sources.\",\n",
       "  False,\n",
       "  'There is no information available about an airplane crash on 12 June 2025 in India in the provided context.',\n",
       "  True,\n",
       "  'The query mentions India, indicating it is related to the country.',\n",
       "  \"<think>\\nOkay, the user is asking about an airplane crash that happened on June 12, 2025, in India. I need to answer based only on the context provided. Let me check the context again.\\n\\nThe context provided is a list of events for 2025 in India. It mentions a ceasefire on May 10, 2025, between India and Pakistan, and missile strikes by India on Pakistan on May 7, 2025, called Operation Sindoor. There's nothing else mentioned in the context about any other events, especially not an airplane crash on June 12.\\n\\nSo, since the context doesn't include any information about an aircrash on that date, I should inform the user that the context doesn't cover that event. I'll make sure to be clear and not add any external information. I should also offer help with other information if they need it.\\n\\nI need to phrase this in a helpful way, letting them know I can't provide details on that specific crash but am here for other questions.\\n</think>\\n\\nThe context provided does not include any information about an airplane crash on June 12, 2025, in India. The events listed are a ceasefire on May 10, 2025, and missile strikes on May 7, 2025. If you're looking for details on a specific aircrash, the context doesn't cover that event. Feel free to ask if you need information on other topics!\",\n",
       "  False,\n",
       "  \"The context provided does not include information about an airplane crash on June 12, 2025, in India. However, I can provide details on other events if you're interested.\",\n",
       "  True,\n",
       "  'The query mentions an airplane crash in India, indicating a relation to the country.',\n",
       "  \"<think>\\nAlright, so the user is asking about an airplane crash that happened on June 12, 2025, in India. They want me to provide information based solely on the context given. Let me look at the context provided.\\n\\nThe context mentions two events in 2025: a ceasefire on May 10 and missile strikes by India on Pakistan on May 7. There's no mention of any airplane crash, especially not on June 12. \\n\\nHmm, the user might have mistaken the date or the event. Maybe they confused it with another incident or perhaps they're referring to a different year. Since the context doesn't include any information about an aircrash on that date, I should inform them that there's no such event listed in the provided context.\\n\\nI should make sure to be clear and polite, letting them know I can't provide details on that specific crash because it's not mentioned. Maybe offer to help with other events if they have more questions.\\n</think>\\n\\nI'm sorry, but I cannot provide information about an airplane crash that occurred on June 12, 2025, in India because such an event is not mentioned in the provided context. The context only includes information about a ceasefire and missile strikes between India and Pakistan in May 2025. If you have any other questions based on the provided context, feel free to ask!\",\n",
       "  False,\n",
       "  'There was a significant ceasefire agreement signed on May 10, 2025, between India and Pakistan, which brought temporary peace to the region. Prior to this, on May 7, 2025, India conducted missile strikes against Pakistan in retaliation for previous aggressions.',\n",
       "  True,\n",
       "  'The query discusses a ceasefire agreement and missile strikes involving India, indicating it is related to India.',\n",
       "  \"<think>\\nOkay, so the user is asking about an airplane crash that happened on June 12, 2025, in India. They want me to use the provided context to answer their query. Let me look at the context given. \\n\\nThe context lists events for 2025 in India. It mentions a ceasefire announced on May 10, 2025, between India and Pakistan, and missile strikes by India on Pakistan on May 7, 2025, called Operation Sindoor. There's no mention of any other events, especially nothing about an airplane crash in June. \\n\\nI should make sure I don't add any external information or assumptions. Since the context doesn't include the crash, I need to inform the user that the specific event isn't listed. I'll also offer to help with other information if needed. \\n\\nI should keep the response clear and concise, avoiding any speculation about the crash. It's important to stick strictly to the provided context as per the instructions.\\n</think>\\n\\nThe context provided does not mention an airplane crash occurring on 12 June 2025 in India. It only includes information about a ceasefire between India and Pakistan on 10 May 2025 and missile strikes by India on Pakistan on 7 May 2025. Therefore, I cannot provide details about the specific event you are asking for. Let me know if you'd like information on other topics!\",\n",
       "  False,\n",
       "  \"The context provided does not mention an airplane crash occurring on 12 June 2025 in India. It only includes information about a ceasefire between India and Pakistan on 10 May 2025 and missile strikes by India on Pakistan on 7 May 2025. Therefore, I cannot provide details about the specific event you are asking for. Let me know if you'd like information on other topics!\",\n",
       "  True,\n",
       "  'The query mentions events involving India, specifically a ceasefire and missile strikes with Pakistan, indicating the topic is related to India.',\n",
       "  \"<think>\\nOkay, so the user is asking about an airplane crash that happened on June 12, 2025, in India. I need to answer using only the context provided. Let me check the context again. The context lists events for 2025 in India. It mentions a ceasefire on May 10, and missile strikes on May 7. There's nothing about an airplane crash on June 12. Hmm, so I should inform the user that there's no information available about that specific event. Maybe also suggest they check other sources if they need more details. I should keep the response clear and concise, avoiding any speculation beyond the provided context.\\n</think>\\n\\nThere is no information available in the provided context about an airplane crash that occurred on June 12, 2025, in India. The context only mentions events related to a ceasefire and missile strikes between India and Pakistan in May 2025.\",\n",
       "  False,\n",
       "  'The answer provided does not relate to the query about the airplane crash on June 12, 2025, in India.',\n",
       "  True,\n",
       "  'The query mentions an airplane crash in India, indicating it is related to the country.',\n",
       "  \"<think>\\nOkay, so the user is asking about an airplane crash that happened on June 12, 2025, in India. I need to answer based solely on the context provided. Let me look at the context again.\\n\\nThe context mentions events in India for the year 2025. Specifically, it talks about a ceasefire announced on May 10, 2025, between India and Pakistan, following an agreement. Then, on May 7, 2025, India launched missile strikes on Pakistan, called Operation Sindoor. There's no mention of any airplane crash on June 12, 2025.\\n\\nSo, based on this, I can't provide any information about the crash because it's not in the context. I should let the user know that the context doesn't include that event. Maybe I should also mention the events that are present to show I've checked thoroughly.\\n\\nI need to make sure my response is clear and helpful, without making up any information. I'll tell the user that there's no data on the crash in the provided context and briefly mention the other events to show I've reviewed the available information.\\n</think>\\n\\nThe context provided does not include any information about an airplane crash on June 12, 2025, in India. The details available pertain to a ceasefire announced on May 10, 2025, following an agreement between India and Pakistan, and India's missile strikes on Pakistan on May 7, 2025, known as Operation Sindoor. Therefore, I cannot provide details on the crash as it is not mentioned in the given context.\",\n",
       "  False,\n",
       "  \"There is no information available about an airplane crash on June 12, 2025, in India within the provided context. The context discusses a ceasefire announced on May 10, 2025, following an agreement between India and Pakistan, and India's missile strikes on Pakistan on May 7, 2025, known as Operation Sindoor.\",\n",
       "  True,\n",
       "  'The query mentions events involving India and Pakistan, indicating it is related to India.',\n",
       "  \"<think>\\nOkay, I need to figure out how to respond to the user's query about an airplane crash on June 12, 2025, in India. The user provided some context, but it's only about events in 2025, specifically mentioning a ceasefire and missile strikes between India and Pakistan. There's nothing in the context about any airplane crash. \\n\\nSo, first, I should acknowledge the user's question. Then, explain that the context they provided doesn't include any information about an airplane crash on that date. I should make sure not to add any outside information since the instructions say to strictly use the provided context. \\n\\nI should keep the response clear and concise, letting them know that based on the given data, there's no mention of such an event. Maybe I can also suggest they provide more context if they have any, but since the instructions say to only use the given context, perhaps that's unnecessary.\\n\\nI need to avoid any assumptions or speculations. Just stick to what's provided. So the response should be straightforward, stating that there's no information available in the context about the crash they're asking about.\\n</think>\\n\\nBased on the context provided, there is no information available regarding an airplane crash on June 12, 2025, in India. The context only mentions events related to a ceasefire and missile strikes between India and Pakistan in May 2025.\",\n",
       "  True,\n",
       "  'There is no information available in the provided context about an airplane crash on June 12, 2025, in India. The context only mentions events related to a ceasefire and missile strikes between India and Pakistan in May 2025.']}"
      ]
     },
     "execution_count": 512,
     "metadata": {},
     "output_type": "execute_result"
    }
   ],
   "source": [
    "app.invoke({\"inputs\":[\"Tell me about the aircrash happened on 12 June 2025 in India? you may use web search\"]})"
   ]
  },
  {
   "cell_type": "code",
   "execution_count": 513,
   "id": "045da521",
   "metadata": {},
   "outputs": [
    {
     "name": "stdout",
     "output_type": "stream",
     "text": [
      "-> Supervisor Node <-\n",
      "-> Router 1 <-\n",
      "-> RAG Call <-\n",
      "<think>\n",
      "Okay, so the user is asking about an airplane crash that happened on June 12, 2025, in India. Let me check the context provided. The context is a list of events for 2025 in India, and it only mentions two things: the launch of missile strikes on Pakistan on May 7, 2025, as part of Operation Sindoor, and the 2025 India-Pakistan conflict that started on the same date. There's no mention of any airplane crash on June 12 or any other date. \n",
      "\n",
      "Hmm, so based on the context given, I don't have any information about an aircrash on that specific date. The user also mentioned that if I don't have any context, I should use \"tavily context,\" but I think that might be a typo. Maybe they meant \"use the provided context.\" Since the context doesn't include the crash, I should inform the user that there's no information available about that event in the given context.\n",
      "\n",
      "I should make sure to respond clearly, letting them know that the crash isn't mentioned and what I can provide information on based on the context. Maybe I can offer to help with other events if they're interested. I need to keep it concise and helpful without assuming any information beyond what's provided.\n",
      "</think>\n",
      "\n",
      "The context provided does not contain any information about an airplane crash that occurred on June 12, 2025, in India. The context only mentions the 2025 India–Pakistan conflict, which began on May 7, 2025, after India launched missile strikes on Pakistan under the codename Operation Sindoor. If you need information about other events, feel free to ask!\n",
      "-> Validator Call <-\n",
      "-> Supervisor Node <-\n",
      "-> Router 1 <-\n",
      "-> RAG Call <-\n",
      "<think>\n",
      "Okay, so the user is asking about an airplane crash that happened on June 12, 2025, in India. They also mentioned that if I don't have any context, I should use \"tavily context.\" Let me check the context provided.\n",
      "\n",
      "Looking at the context, it's a list of events for India in 2025. The only events mentioned are the missile strikes on Pakistan on May 7, 2025, and the resulting conflict. There's no information about any airplane crash on June 12 or any other date.\n",
      "\n",
      "So, I need to inform the user that there's no context available about an airplane crash on that specific date. I should make it clear that the provided context only includes the military events and nothing else. I'll structure my response to be polite and offer further assistance if they have more questions about the available context.\n",
      "</think>\n",
      "\n",
      "As of the provided context, there is no information available regarding an airplane crash that occurred on June 12, 2025, in India. The context only mentions the 2025 India–Pakistan conflict, which began on May 7, 2025, with India launching missile strikes on Pakistan under Operation Sindoor. If you have any other questions about the provided context, feel free to ask!\n",
      "-> Validator Call <-\n"
     ]
    },
    {
     "data": {
      "text/plain": [
       "{'inputs': ['Tell me about the aircrash happened on 12 June 2025 in India? If you dont have any context use tavily',\n",
       "  True,\n",
       "  'The query specifically mentions an event in India, indicating it is related to the country.',\n",
       "  '<think>\\nOkay, so the user is asking about an airplane crash that happened on June 12, 2025, in India. Let me check the context provided. The context is a list of events for 2025 in India, and it only mentions two things: the launch of missile strikes on Pakistan on May 7, 2025, as part of Operation Sindoor, and the 2025 India-Pakistan conflict that started on the same date. There\\'s no mention of any airplane crash on June 12 or any other date. \\n\\nHmm, so based on the context given, I don\\'t have any information about an aircrash on that specific date. The user also mentioned that if I don\\'t have any context, I should use \"tavily context,\" but I think that might be a typo. Maybe they meant \"use the provided context.\" Since the context doesn\\'t include the crash, I should inform the user that there\\'s no information available about that event in the given context.\\n\\nI should make sure to respond clearly, letting them know that the crash isn\\'t mentioned and what I can provide information on based on the context. Maybe I can offer to help with other events if they\\'re interested. I need to keep it concise and helpful without assuming any information beyond what\\'s provided.\\n</think>\\n\\nThe context provided does not contain any information about an airplane crash that occurred on June 12, 2025, in India. The context only mentions the 2025 India–Pakistan conflict, which began on May 7, 2025, after India launched missile strikes on Pakistan under the codename Operation Sindoor. If you need information about other events, feel free to ask!',\n",
       "  False,\n",
       "  'The context provided does not contain any information about an airplane crash that occurred on June 12, 2025, in India. The context only mentions the 2025 India–Pakistan conflict, which began on May 7, 2025, after India launched missile strikes on Pakistan under the codename Operation Sindoor. If you need information about other events, feel free to ask!',\n",
       "  True,\n",
       "  'The context provided discusses the 2025 India–Pakistan conflict, which involves India.',\n",
       "  '<think>\\nOkay, so the user is asking about an airplane crash that happened on June 12, 2025, in India. They also mentioned that if I don\\'t have any context, I should use \"tavily context.\" Let me check the context provided.\\n\\nLooking at the context, it\\'s a list of events for India in 2025. The only events mentioned are the missile strikes on Pakistan on May 7, 2025, and the resulting conflict. There\\'s no information about any airplane crash on June 12 or any other date.\\n\\nSo, I need to inform the user that there\\'s no context available about an airplane crash on that specific date. I should make it clear that the provided context only includes the military events and nothing else. I\\'ll structure my response to be polite and offer further assistance if they have more questions about the available context.\\n</think>\\n\\nAs of the provided context, there is no information available regarding an airplane crash that occurred on June 12, 2025, in India. The context only mentions the 2025 India–Pakistan conflict, which began on May 7, 2025, with India launching missile strikes on Pakistan under Operation Sindoor. If you have any other questions about the provided context, feel free to ask!',\n",
       "  True,\n",
       "  'As of the provided context, there is no information available regarding an airplane crash that occurred on June 12, 2025, in India. The context only mentions the 2025 India–Pakistan conflict, which began on May 7, 2025, with India launching missile strikes on Pakistan under Operation Sindoor. If you have any other questions about the provided context, feel free to ask!']}"
      ]
     },
     "execution_count": 513,
     "metadata": {},
     "output_type": "execute_result"
    }
   ],
   "source": [
    "app.invoke({\"inputs\":[\"Tell me about the aircrash happened on 12 June 2025 in India? If you dont have any context use tavily\"]})"
   ]
  },
  {
   "cell_type": "code",
   "execution_count": 520,
   "id": "4b7bd84e",
   "metadata": {},
   "outputs": [
    {
     "name": "stdout",
     "output_type": "stream",
     "text": [
      "-> Supervisor Node <-\n",
      "-> Router 1 <-\n",
      "-> RAG Call <-\n",
      "<think>\n",
      "Okay, so the user is asking for the GDP of India in 2024. I need to look at the provided context to find the answer. Let me read through the context again.\n",
      "\n",
      "The context mentions two points: first, that India's gross domestic savings rate was 29.3% of GDP in 2022, and second, that the most recent election was in 2024. There's no direct information about the GDP value for 2024 here. \n",
      "\n",
      "Hmm, the user is specifically asking for GDP in 2024, but the context only gives the savings rate for 2022 and an election year. I don't see any GDP figures for 2024. Maybe they're confusing the election year with economic data, but I can't assume that. \n",
      "\n",
      "I should make sure not to provide incorrect information. The best response is to state that the context doesn't include the GDP for 2024 and suggest looking for more recent or specific data sources. That way, the user knows where to find the information they're seeking without getting misleading answers.\n",
      "</think>\n",
      "\n",
      "The context provided does not include information about India's GDP for the year 2024. It only mentions that the most recent election was in 2024 and provides data on the gross domestic savings rate for 2022. Therefore, I cannot provide the GDP of India for 2024 based on the given context.\n",
      "-> Validator Call <-\n",
      "-> Supervisor Node <-\n",
      "-> Router 1 <-\n",
      "-> RAG Call <-\n",
      "<think>\n",
      "Okay, I'm trying to figure out how to answer the user's query about India's GDP in 2024 based on the given context. Let me read through the context again to make sure I don't miss anything.\n",
      "\n",
      "The context provided is a list of events for the year 2025 in India. It mentions two points: one about the gross domestic savings rate in 2022 and another about the most recent election being in 2024. \n",
      "\n",
      "So, the user is asking for the GDP of India in 2024. The context doesn't provide any direct GDP figures for 2024. It only talks about the gross domestic savings rate in 2022, which is 29.3% of GDP for that year, and the election in 2024. \n",
      "\n",
      "I should check if there's any indirect way to calculate GDP from the savings rate, but without additional data like investment or consumption, that's not feasible. Also, the context doesn't provide any projections or estimates for GDP in 2024 or 2025. \n",
      "\n",
      "Therefore, based on the information given, I can't determine India's GDP for 2024. The context lacks the necessary data points to answer the query accurately.\n",
      "</think>\n",
      "\n",
      "Based on the provided context, there is no information available regarding India's GDP for the year 2024. The context only mentions the gross domestic savings rate for 2022 and the occurrence of an election in 2024. Therefore, it's not possible to determine the GDP for 2024 from the given data.\n",
      "-> Validator Call <-\n",
      "-> Supervisor Node <-\n",
      "-> Router 1 <-\n",
      "-> RAG Call <-\n",
      "<think>\n",
      "Okay, so the user is asking about India's GDP in 2024. I need to figure this out based on the context they provided. Let me look at the context again. It mentions that India's gross domestic savings rate was 29.3% of GDP in 2022, and the most recent election was in 2024.\n",
      "\n",
      "Hmm, the context doesn't directly provide the GDP value for 2024. It only gives the savings rate for 2022 and mentions an election in 2024. I don't have any data points for 2024's GDP. Maybe the user thinks the election year would have some impact, but without specific numbers, I can't calculate or infer the GDP.\n",
      "\n",
      "I should inform the user that the context doesn't include the GDP figure for 2024. I'll make sure to mention the available information about the 2022 savings rate and the 2024 election, but clarify that the GDP isn't provided here. That way, the user knows the limitations of the context given.\n",
      "</think>\n",
      "\n",
      "The context provided does not include information about India's GDP in 2024. It only mentions that India's gross domestic savings rate stood at 29.3% of GDP in 2022 and that the most recent election was in 2024. Therefore, I cannot provide the GDP of India for 2024 based on the given context.\n",
      "-> Validator Call <-\n",
      "-> Supervisor Node <-\n",
      "-> Router 1 <-\n",
      "-> RAG Call <-\n",
      "<think>\n",
      "Okay, so the user is asking for the GDP of India in 2024. Let me look at the context provided. The context includes a list of events for 2025. The first point mentions that India's gross domestic savings rate was 29.3% of GDP in 2022. The second point notes that the most recent election was in 2024.\n",
      "\n",
      "Hmm, the user wants the GDP for 2024, but the context only gives the savings rate for 2022 and mentions an election in 2024. There's no specific GDP figure provided for 2024. The savings rate is a percentage of GDP, but without knowing the actual GDP value for 2022, I can't calculate it from the given data.\n",
      "\n",
      "Also, the context doesn't provide any GDP data for years beyond 2022. The election information in 2024 doesn't relate to GDP numbers. So, I don't have the necessary information to answer the user's query accurately. I should inform them that the GDP for 2024 isn't available in the provided context.\n",
      "</think>\n",
      "\n",
      "The GDP of India in 2024 is not provided in the given context. The context only mentions the gross domestic savings rate for 2022 and the most recent election in 2024, but it does not include the GDP figure for 2024.\n",
      "-> Validator Call <-\n"
     ]
    },
    {
     "data": {
      "text/plain": [
       "{'inputs': ['Tell me the GDP of India in 2024',\n",
       "  True,\n",
       "  'The query asks for the GDP of India in 2024, which is directly related to India.',\n",
       "  \"<think>\\nOkay, so the user is asking for the GDP of India in 2024. I need to look at the provided context to find the answer. Let me read through the context again.\\n\\nThe context mentions two points: first, that India's gross domestic savings rate was 29.3% of GDP in 2022, and second, that the most recent election was in 2024. There's no direct information about the GDP value for 2024 here. \\n\\nHmm, the user is specifically asking for GDP in 2024, but the context only gives the savings rate for 2022 and an election year. I don't see any GDP figures for 2024. Maybe they're confusing the election year with economic data, but I can't assume that. \\n\\nI should make sure not to provide incorrect information. The best response is to state that the context doesn't include the GDP for 2024 and suggest looking for more recent or specific data sources. That way, the user knows where to find the information they're seeking without getting misleading answers.\\n</think>\\n\\nThe context provided does not include information about India's GDP for the year 2024. It only mentions that the most recent election was in 2024 and provides data on the gross domestic savings rate for 2022. Therefore, I cannot provide the GDP of India for 2024 based on the given context.\",\n",
       "  False,\n",
       "  'The GDP of India in 2024 is not provided in the given context.',\n",
       "  True,\n",
       "  \"The query explicitly mentions 'India' in the context of GDP, which directly relates to the country.\",\n",
       "  \"<think>\\nOkay, I'm trying to figure out how to answer the user's query about India's GDP in 2024 based on the given context. Let me read through the context again to make sure I don't miss anything.\\n\\nThe context provided is a list of events for the year 2025 in India. It mentions two points: one about the gross domestic savings rate in 2022 and another about the most recent election being in 2024. \\n\\nSo, the user is asking for the GDP of India in 2024. The context doesn't provide any direct GDP figures for 2024. It only talks about the gross domestic savings rate in 2022, which is 29.3% of GDP for that year, and the election in 2024. \\n\\nI should check if there's any indirect way to calculate GDP from the savings rate, but without additional data like investment or consumption, that's not feasible. Also, the context doesn't provide any projections or estimates for GDP in 2024 or 2025. \\n\\nTherefore, based on the information given, I can't determine India's GDP for 2024. The context lacks the necessary data points to answer the query accurately.\\n</think>\\n\\nBased on the provided context, there is no information available regarding India's GDP for the year 2024. The context only mentions the gross domestic savings rate for 2022 and the occurrence of an election in 2024. Therefore, it's not possible to determine the GDP for 2024 from the given data.\",\n",
       "  False,\n",
       "  'The GDP of India in 2024 is $3.7 trillion.',\n",
       "  True,\n",
       "  \"The query mentions 'India' in the context of its GDP, which is a clear indicator of the topic being related to India.\",\n",
       "  \"<think>\\nOkay, so the user is asking about India's GDP in 2024. I need to figure this out based on the context they provided. Let me look at the context again. It mentions that India's gross domestic savings rate was 29.3% of GDP in 2022, and the most recent election was in 2024.\\n\\nHmm, the context doesn't directly provide the GDP value for 2024. It only gives the savings rate for 2022 and mentions an election in 2024. I don't have any data points for 2024's GDP. Maybe the user thinks the election year would have some impact, but without specific numbers, I can't calculate or infer the GDP.\\n\\nI should inform the user that the context doesn't include the GDP figure for 2024. I'll make sure to mention the available information about the 2022 savings rate and the 2024 election, but clarify that the GDP isn't provided here. That way, the user knows the limitations of the context given.\\n</think>\\n\\nThe context provided does not include information about India's GDP in 2024. It only mentions that India's gross domestic savings rate stood at 29.3% of GDP in 2022 and that the most recent election was in 2024. Therefore, I cannot provide the GDP of India for 2024 based on the given context.\",\n",
       "  False,\n",
       "  \"The context does not provide the GDP of India for the year 2024. However, it is mentioned that India's gross domestic savings rate was 29.3% of GDP in 2022, and the most recent election was held in 2024.\",\n",
       "  True,\n",
       "  'The query explicitly mentions India and discusses its economic and political context.',\n",
       "  \"<think>\\nOkay, so the user is asking for the GDP of India in 2024. Let me look at the context provided. The context includes a list of events for 2025. The first point mentions that India's gross domestic savings rate was 29.3% of GDP in 2022. The second point notes that the most recent election was in 2024.\\n\\nHmm, the user wants the GDP for 2024, but the context only gives the savings rate for 2022 and mentions an election in 2024. There's no specific GDP figure provided for 2024. The savings rate is a percentage of GDP, but without knowing the actual GDP value for 2022, I can't calculate it from the given data.\\n\\nAlso, the context doesn't provide any GDP data for years beyond 2022. The election information in 2024 doesn't relate to GDP numbers. So, I don't have the necessary information to answer the user's query accurately. I should inform them that the GDP for 2024 isn't available in the provided context.\\n</think>\\n\\nThe GDP of India in 2024 is not provided in the given context. The context only mentions the gross domestic savings rate for 2022 and the most recent election in 2024, but it does not include the GDP figure for 2024.\",\n",
       "  True,\n",
       "  'The GDP of India in 2024 is not provided in the given context.']}"
      ]
     },
     "execution_count": 520,
     "metadata": {},
     "output_type": "execute_result"
    }
   ],
   "source": [
    "app.invoke({\"inputs\":[\"Tell me the GDP of India in 2024\"]})"
   ]
  },
  {
   "cell_type": "code",
   "execution_count": 522,
   "id": "78c86b0e",
   "metadata": {},
   "outputs": [
    {
     "name": "stdout",
     "output_type": "stream",
     "text": [
      "-> Supervisor Node <-\n",
      "-> Router 1 <-\n",
      "-> RAG Call <-\n",
      "<think>\n",
      "Alright, let me try to figure out how to answer the user's query. The user is asking, \"Who won the Lok Sabha elections of India in 2019?\" and they've provided some context. My first step is to look at the context they've given to see if it contains the answer.\n",
      "\n",
      "Looking at the context, I see that it starts with a list of events for the year 2025 in India. The first point mentions the fourth meeting held in New Delhi on 19 December. Then, the next line describes India as a country in South Asia. There's no mention of the 2019 Lok Sabha elections here.\n",
      "\n",
      "Since the context is about 2025 events and general information about India, it doesn't cover the 2019 elections. I know from my general knowledge that the 2019 Lok Sabha elections were won by the Bharatiya Janata Party (BJP) led by Narendra Modi, but I can't use that information because I must strictly adhere to the provided context.\n",
      "\n",
      "So, the answer must be based solely on the context given. Since the context doesn't include any information about the 2019 elections, I can't determine the winner from it. Therefore, I should inform the user that the context doesn't provide the necessary details about the 2019 Lok Sabha elections.\n",
      "</think>\n",
      "\n",
      "The context provided does not contain information about the 2019 Lok Sabha elections. Therefore, I cannot determine the winner based on the given information.\n",
      "-> Validator Call <-\n",
      "-> Supervisor Node <-\n",
      "-> Router 1 <-\n",
      "-> RAG Call <-\n",
      "<think>\n",
      "Okay, so the user is asking who won the 2019 Lok Sabha elections in India. I need to figure this out based on the context provided. Let me look at the context again. It mentions events from 2025, the fourth meeting in New Delhi on December 19, and defines India as a country in South Asia. Hmm, nothing here about 2019 elections. \n",
      "\n",
      "Wait, maybe the context is incomplete or not relevant. The user might have provided the wrong context by mistake. The events listed are from 2025, so they don't cover 2019. I should inform the user that the context doesn't have the necessary information about the 2019 elections. \n",
      "\n",
      "I should also consider that the user might not be aware that the context doesn't include the required details. So, I need to politely mention that the context is about 2025 and doesn't include 2019 election results. Maybe suggest they check a different source if possible.\n",
      "\n",
      "I remember from general knowledge that the BJP, led by Narendra Modi, won the 2019 Lok Sabha elections, securing a majority. But since the context doesn't provide this information, I shouldn't include that in the answer. I should stick strictly to the context provided, which is about 2025 events. \n",
      "\n",
      "Therefore, my response should clarify that the context doesn't cover the 2019 elections and perhaps explain that the information isn't available here. I should avoid providing external knowledge since the instructions say to strictly use the context. \n",
      "\n",
      "So, I'll structure the answer to state that the context provided is about 2025 and doesn't include information about the 2019 Lok Sabha elections. That way, the user understands the limitation of the context given.\n",
      "</think>\n",
      "\n",
      "The context provided does not contain information about the 2019 Lok Sabha elections in India. It only includes details about events from the year 2025 and general information about India. Therefore, I cannot provide an answer based on the given context.\n",
      "-> Validator Call <-\n",
      "-> Supervisor Node <-\n",
      "-> Router 1 <-\n",
      "-> RAG Call <-\n",
      "<think>\n",
      "Okay, so I'm trying to figure out who won the Lok Sabha elections in India in 2019. The user provided a context, but it's about events in 2025 and some general information about India. Hmm, that's a bit confusing. The context doesn't mention anything about the 2019 elections at all. It talks about a meeting in New Delhi in December 2025 and defines India as a country in South Asia.\n",
      "\n",
      "I remember that the 2019 Lok Sabha elections were a major event where the BJP, led by Narendra Modi, won a significant majority. But the context here doesn't include any details about past elections, only future events. So based strictly on the context provided, there's no information about the 2019 elections. The user is asking about 2019, but the context is about 2025. \n",
      "\n",
      "I think the user might have made a mistake in providing the context, but I have to go with what's given. Since the context doesn't include any details about the 2019 elections, I can't answer that question using the provided information. I should inform the user that the context doesn't cover the 2019 elections and suggest they provide the correct context if they have it. That way, I can assist them better.\n",
      "</think>\n",
      "\n",
      "The context provided does not include information about the 2019 Lok Sabha elections. It focuses on events in 2025 and general information about India. Therefore, I cannot answer the question based on the given context. If you have the correct context, please provide it, and I'll be happy to help!\n",
      "-> Validator Call <-\n",
      "-> Supervisor Node <-\n",
      "-> Router 1 <-\n",
      "-> RAG Call <-\n",
      "<think>\n",
      "Okay, so I'm trying to figure out who won the 2019 Lok Sabha elections in India. The user provided a context, but when I look at it, I see that it's about events from 2025 and some general information about India. There's nothing in the context that mentions the 2019 elections or any results related to them. The context talks about a meeting in New Delhi in December 2025 and defines India as a country in South Asia. \n",
      "\n",
      "Since the context doesn't include any information about the 2019 Lok Sabha elections, I can't answer the question based solely on the provided context. The user might be expecting information about the BJP or Narendra Modi winning, as that's historical knowledge, but without the context providing that, I can't confirm it here. I should let the user know that the context doesn't cover the 2019 elections and suggest they provide more relevant information if possible.\n",
      "</think>\n",
      "\n",
      "The context provided does not contain information about the 2019 Lok Sabha elections. Therefore, I cannot determine the winner based on the given context. If you have more relevant information or context about the 2019 elections, please provide it, and I'd be happy to help.\n",
      "-> Validator Call <-\n",
      "-> Supervisor Node <-\n",
      "-> Router 1 <-\n",
      "-> RAG Call <-\n",
      "<think>\n",
      "Okay, so I need to figure out who won the 2019 Lok Sabha elections in India. The user provided a context, but I should only use that to answer. Let me look at the context again. It says: \"The following is a list of events for the year 2025 in India. The fourth meeting was held in New Delhi on 19 December. India, officially the Republic of India, is a country in South Asia.\" Hmm, that's all the context given. \n",
      "\n",
      "Wait, the context is about events in 2025, not 2019. There's nothing here about the 2019 elections. I remember from general knowledge that the BJP, led by Narendra Modi, won the 2019 Lok Sabha elections, but the context doesn't mention this. So, based strictly on the provided context, there's no information about the 2019 elections. \n",
      "\n",
      "I should inform the user that the context doesn't provide the answer and perhaps suggest they look elsewhere for that information. That way, I'm being helpful without making up information.\n",
      "</think>\n",
      "\n",
      "The context provided does not contain information about the 2019 Lok Sabha elections. Therefore, I cannot determine the winner based on the given context. For information about the 2019 elections, you may need to refer to other sources.\n",
      "-> Validator Call <-\n",
      "-> Supervisor Node <-\n",
      "-> Router 1 <-\n",
      "-> RAG Call <-\n",
      "<think>\n",
      "Alright, so the user is asking who won the Lok Sabha elections in India in 2019. They've provided some context, but I need to check if that context actually contains the answer. Let me read through the context again.\n",
      "\n",
      "The context given starts by mentioning that it's a list of events for the year 2025 in India. Then it talks about the fourth meeting held in New Delhi on December 19. After that, it defines India as a country in South Asia. Hmm, that's all the context provided.\n",
      "\n",
      "Wait a minute, the user's query is about the 2019 elections, but the context is about 2025 events. There's nothing in the context that mentions the 2019 Lok Sabha elections, the results, or any related information. So, the context doesn't have the answer the user is looking for.\n",
      "\n",
      "I should make sure I don't provide any incorrect information. Since the context lacks the necessary details about the 2019 elections, I can't answer based on it. I need to inform the user that the context doesn't include the required information about the 2019 Lok Sabha elections.\n",
      "</think>\n",
      "\n",
      "The context provided does not contain information about the 2019 Lok Sabha elections. Therefore, I cannot answer that question based on the given context.\n",
      "-> Validator Call <-\n",
      "-> Supervisor Node <-\n",
      "-> Router 1 <-\n",
      "-> RAG Call <-\n",
      "<think>\n",
      "Okay, I'm trying to figure out who won the 2019 Lok Sabha elections in India. The user provided a context, but I need to check if it actually contains the relevant information. \n",
      "\n",
      "Looking at the context, it mentions a list of events for the year 2025 in India, specifically a meeting in New Delhi on December 19. It also gives some general information about India being a country in South Asia. \n",
      "\n",
      "Wait a minute, the context is about 2025, not 2019. There's no information here about the 2019 elections. So, the context doesn't help me answer the question. I need to let the user know that the context provided doesn't include the details about the 2019 Lok Sabha elections. \n",
      "\n",
      "I should probably inform them that I can't answer based on the given context and maybe suggest looking for a different source or context that covers the 2019 elections.\n",
      "</think>\n",
      "\n",
      "The provided context does not contain information about the 2019 Lok Sabha elections. It focuses on events from 2025 and general information about India. Therefore, I cannot answer the question based on the given context. For details about the 2019 elections, a different source or context would be needed.\n",
      "-> Validator Call <-\n",
      "-> Supervisor Node <-\n",
      "-> Router 1 <-\n",
      "-> RAG Call <-\n",
      "<think>\n",
      "Okay, so I need to figure out who won the 2019 Lok Sabha elections in India. The user provided a context, but when I look at it, it's about events in 2025 and some general info about India. There's nothing there about 2019 or the elections. Hmm, that's a problem because I can't use any outside information, only what's given.\n",
      "\n",
      "I should let the user know that the context doesn't have the answer they're looking for. Maybe suggest they provide more relevant context if they have it. That way, I can help them better next time.\n",
      "</think>\n",
      "\n",
      "The context provided does not contain information about the 2019 Lok Sabha elections. If you have more relevant context or details, please share them, and I'll be happy to help!\n",
      "-> Validator Call <-\n",
      "-> Supervisor Node <-\n",
      "-> Router 1 <-\n"
     ]
    },
    {
     "ename": "GraphRecursionError",
     "evalue": "Recursion limit of 25 reached without hitting a stop condition. You can increase the limit by setting the `recursion_limit` config key.\nFor troubleshooting, visit: https://python.langchain.com/docs/troubleshooting/errors/GRAPH_RECURSION_LIMIT",
     "output_type": "error",
     "traceback": [
      "\u001b[1;31m---------------------------------------------------------------------------\u001b[0m",
      "\u001b[1;31mGraphRecursionError\u001b[0m                       Traceback (most recent call last)",
      "Cell \u001b[1;32mIn[522], line 1\u001b[0m\n\u001b[1;32m----> 1\u001b[0m \u001b[43mapp\u001b[49m\u001b[38;5;241;43m.\u001b[39;49m\u001b[43minvoke\u001b[49m\u001b[43m(\u001b[49m\u001b[43m{\u001b[49m\u001b[38;5;124;43m\"\u001b[39;49m\u001b[38;5;124;43minputs\u001b[39;49m\u001b[38;5;124;43m\"\u001b[39;49m\u001b[43m:\u001b[49m\u001b[43m[\u001b[49m\u001b[38;5;124;43m\"\u001b[39;49m\u001b[38;5;124;43mWho won the loksabha elections of India in 2019?\u001b[39;49m\u001b[38;5;124;43m\"\u001b[39;49m\u001b[43m]\u001b[49m\u001b[43m}\u001b[49m\u001b[43m)\u001b[49m\n",
      "File \u001b[1;32mc:\\Users\\chinmay.raut\\AppData\\Local\\anaconda3\\envs\\autogen\\lib\\site-packages\\langgraph\\pregel\\__init__.py:2719\u001b[0m, in \u001b[0;36mPregel.invoke\u001b[1;34m(self, input, config, stream_mode, output_keys, interrupt_before, interrupt_after, checkpoint_during, debug, **kwargs)\u001b[0m\n\u001b[0;32m   2716\u001b[0m chunks: \u001b[38;5;28mlist\u001b[39m[Union[\u001b[38;5;28mdict\u001b[39m[\u001b[38;5;28mstr\u001b[39m, Any], Any]] \u001b[38;5;241m=\u001b[39m []\n\u001b[0;32m   2717\u001b[0m interrupts: \u001b[38;5;28mlist\u001b[39m[Interrupt] \u001b[38;5;241m=\u001b[39m []\n\u001b[1;32m-> 2719\u001b[0m \u001b[38;5;28;01mfor\u001b[39;00m chunk \u001b[38;5;129;01min\u001b[39;00m \u001b[38;5;28mself\u001b[39m\u001b[38;5;241m.\u001b[39mstream(\n\u001b[0;32m   2720\u001b[0m     \u001b[38;5;28minput\u001b[39m,\n\u001b[0;32m   2721\u001b[0m     config,\n\u001b[0;32m   2722\u001b[0m     stream_mode\u001b[38;5;241m=\u001b[39mstream_mode,\n\u001b[0;32m   2723\u001b[0m     output_keys\u001b[38;5;241m=\u001b[39moutput_keys,\n\u001b[0;32m   2724\u001b[0m     interrupt_before\u001b[38;5;241m=\u001b[39minterrupt_before,\n\u001b[0;32m   2725\u001b[0m     interrupt_after\u001b[38;5;241m=\u001b[39minterrupt_after,\n\u001b[0;32m   2726\u001b[0m     checkpoint_during\u001b[38;5;241m=\u001b[39mcheckpoint_during,\n\u001b[0;32m   2727\u001b[0m     debug\u001b[38;5;241m=\u001b[39mdebug,\n\u001b[0;32m   2728\u001b[0m     \u001b[38;5;241m*\u001b[39m\u001b[38;5;241m*\u001b[39mkwargs,\n\u001b[0;32m   2729\u001b[0m ):\n\u001b[0;32m   2730\u001b[0m     \u001b[38;5;28;01mif\u001b[39;00m stream_mode \u001b[38;5;241m==\u001b[39m \u001b[38;5;124m\"\u001b[39m\u001b[38;5;124mvalues\u001b[39m\u001b[38;5;124m\"\u001b[39m:\n\u001b[0;32m   2731\u001b[0m         \u001b[38;5;28;01mif\u001b[39;00m (\n\u001b[0;32m   2732\u001b[0m             \u001b[38;5;28misinstance\u001b[39m(chunk, \u001b[38;5;28mdict\u001b[39m)\n\u001b[0;32m   2733\u001b[0m             \u001b[38;5;129;01mand\u001b[39;00m (ints \u001b[38;5;241m:=\u001b[39m chunk\u001b[38;5;241m.\u001b[39mget(INTERRUPT)) \u001b[38;5;129;01mis\u001b[39;00m \u001b[38;5;129;01mnot\u001b[39;00m \u001b[38;5;28;01mNone\u001b[39;00m\n\u001b[0;32m   2734\u001b[0m         ):\n",
      "File \u001b[1;32mc:\\Users\\chinmay.raut\\AppData\\Local\\anaconda3\\envs\\autogen\\lib\\site-packages\\langgraph\\pregel\\__init__.py:2456\u001b[0m, in \u001b[0;36mPregel.stream\u001b[1;34m(self, input, config, stream_mode, output_keys, interrupt_before, interrupt_after, checkpoint_during, debug, subgraphs)\u001b[0m\n\u001b[0;32m   2447\u001b[0m \u001b[38;5;28;01mif\u001b[39;00m loop\u001b[38;5;241m.\u001b[39mstatus \u001b[38;5;241m==\u001b[39m \u001b[38;5;124m\"\u001b[39m\u001b[38;5;124mout_of_steps\u001b[39m\u001b[38;5;124m\"\u001b[39m:\n\u001b[0;32m   2448\u001b[0m     msg \u001b[38;5;241m=\u001b[39m create_error_message(\n\u001b[0;32m   2449\u001b[0m         message\u001b[38;5;241m=\u001b[39m(\n\u001b[0;32m   2450\u001b[0m             \u001b[38;5;124mf\u001b[39m\u001b[38;5;124m\"\u001b[39m\u001b[38;5;124mRecursion limit of \u001b[39m\u001b[38;5;132;01m{\u001b[39;00mconfig[\u001b[38;5;124m'\u001b[39m\u001b[38;5;124mrecursion_limit\u001b[39m\u001b[38;5;124m'\u001b[39m]\u001b[38;5;132;01m}\u001b[39;00m\u001b[38;5;124m reached \u001b[39m\u001b[38;5;124m\"\u001b[39m\n\u001b[1;32m   (...)\u001b[0m\n\u001b[0;32m   2454\u001b[0m         error_code\u001b[38;5;241m=\u001b[39mErrorCode\u001b[38;5;241m.\u001b[39mGRAPH_RECURSION_LIMIT,\n\u001b[0;32m   2455\u001b[0m     )\n\u001b[1;32m-> 2456\u001b[0m     \u001b[38;5;28;01mraise\u001b[39;00m GraphRecursionError(msg)\n\u001b[0;32m   2457\u001b[0m \u001b[38;5;66;03m# set final channel values as run output\u001b[39;00m\n\u001b[0;32m   2458\u001b[0m run_manager\u001b[38;5;241m.\u001b[39mon_chain_end(loop\u001b[38;5;241m.\u001b[39moutput)\n",
      "\u001b[1;31mGraphRecursionError\u001b[0m: Recursion limit of 25 reached without hitting a stop condition. You can increase the limit by setting the `recursion_limit` config key.\nFor troubleshooting, visit: https://python.langchain.com/docs/troubleshooting/errors/GRAPH_RECURSION_LIMIT"
     ]
    }
   ],
   "source": [
    "app.invoke({\"inputs\":[\"Who won the loksabha elections of India in 2019?\"]})"
   ]
  },
  {
   "cell_type": "code",
   "execution_count": 526,
   "id": "fe7a4941",
   "metadata": {},
   "outputs": [
    {
     "name": "stdout",
     "output_type": "stream",
     "text": [
      "-> Supervisor Node <-\n",
      "-> Router 1 <-\n",
      "-> Answering LLM Call <-\n",
      "-> Router 2 <-\n",
      "-> Tavily Tool Call <-\n",
      "-> Validator Call <-\n"
     ]
    },
    {
     "data": {
      "text/plain": [
       "{'inputs': ['What is the crude oil price today?',\n",
       "  False,\n",
       "  'The query does not mention India or any related terms.',\n",
       "  False,\n",
       "  \"I'm unable to provide real-time crude oil prices. However, I can offer historical data or general information about crude oil pricing if that's helpful.\",\n",
       "  'As of June 12, 2025, crude oil prices have fallen by 2% due to market concerns over the Israel-Iran conflict. The current WTI crude oil price is $64.58 per barrel. Brent crude oil is priced at $66.47 per barrel.',\n",
       "  True,\n",
       "  'As of June 12, 2025, crude oil prices have fallen by 2% due to market concerns over the Israel-Iran conflict. The current WTI crude oil price is $64.58 per barrel. Brent crude oil is priced at $66.47 per barrel.']}"
      ]
     },
     "execution_count": 526,
     "metadata": {},
     "output_type": "execute_result"
    }
   ],
   "source": [
    "app.invoke({\"inputs\":[\"What is the crude oil price today?\"]})"
   ]
  }
 ],
 "metadata": {
  "kernelspec": {
   "display_name": "autogen",
   "language": "python",
   "name": "python3"
  },
  "language_info": {
   "codemirror_mode": {
    "name": "ipython",
    "version": 3
   },
   "file_extension": ".py",
   "mimetype": "text/x-python",
   "name": "python",
   "nbconvert_exporter": "python",
   "pygments_lexer": "ipython3",
   "version": "3.10.15"
  }
 },
 "nbformat": 4,
 "nbformat_minor": 5
}
